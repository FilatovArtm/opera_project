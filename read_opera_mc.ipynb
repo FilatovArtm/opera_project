{
 "cells": [
  {
   "cell_type": "code",
   "execution_count": 1,
   "metadata": {
    "collapsed": false
   },
   "outputs": [
    {
     "name": "stderr",
     "output_type": "stream",
     "text": [
      "/Users/artem/anaconda/envs/py27/lib/python2.7/site-packages/matplotlib/font_manager.py:273: UserWarning: Matplotlib is building the font cache using fc-list. This may take a moment.\n",
      "  warnings.warn('Matplotlib is building the font cache using fc-list. This may take a moment.')\n",
      "/Users/artem/anaconda/envs/py27/lib/python2.7/site-packages/IPython/html.py:14: ShimWarning: The `IPython.html` package has been deprecated. You should import from `notebook` instead. `IPython.html.widgets` has moved to `ipywidgets`.\n",
      "  \"`IPython.html.widgets` has moved to `ipywidgets`.\", ShimWarning)\n"
     ]
    }
   ],
   "source": [
    "import seaborn\n",
    "from mpl_toolkits.mplot3d import Axes3D\n",
    "from mpl_toolkits.mplot3d.art3d import Line3DCollection\n",
    "from matplotlib import pylab as plt\n",
    "import root_numpy\n",
    "import pandas as pd\n",
    "\n",
    "\n",
    "BRICK_X = 124000\n",
    "BRICK_Y = 99000\n",
    "BRICK_Z = 75000\n",
    "SAFE_M = 25000"
   ]
  },
  {
   "cell_type": "markdown",
   "metadata": {},
   "source": [
    "### test & burn"
   ]
  },
  {
   "cell_type": "markdown",
   "metadata": {},
   "source": [
    "### end of tests"
   ]
  },
  {
   "cell_type": "code",
   "execution_count": 2,
   "metadata": {
    "collapsed": false
   },
   "outputs": [],
   "source": [
    "def load_mc(filename=\"mcdata2.root\", step=1):\n",
    "    mc = root_numpy.root2array(\n",
    "                        filename,\n",
    "                        treename=\"Data\",\n",
    "                        branches=[\"Event_id\", \"ele_P\",\n",
    "                                   \"BT_X\", \"BT_Y\", \"BT_Z\",\n",
    "                                   \"BT_SX\", \"BT_SY\",\n",
    "                                   \"ele_x\", \"ele_y\", \"ele_z\", \n",
    "                                   \"ele_sx\", \"ele_sy\", \n",
    "                                   \"chisquare\"],\n",
    "                        step=step)\n",
    "    pmc = pd.DataFrame(mc)\n",
    "    pmc['numtracks'] = pmc.BT_X.apply(lambda x: len(x))\n",
    "    # cuts\n",
    "    shapechange = [pmc.shape[0]]\n",
    "    pmc = pmc[pmc.ele_P > 0.1]\n",
    "    shapechange.append(pmc.shape[0])\n",
    "    pmc = pmc[pmc.ele_x.abs() < BRICK_X / 2 - SAFE_M]\n",
    "    shapechange.append(pmc.shape[0])\n",
    "    pmc = pmc[pmc.ele_y.abs() < BRICK_Y / 2 - SAFE_M]\n",
    "    shapechange.append(pmc.shape[0])\n",
    "    pmc = pmc[pmc.ele_z < 0]\n",
    "    shapechange.append(pmc.shape[0])\n",
    "    pmc = pmc[pmc.numtracks > 3]\n",
    "    shapechange.append(pmc.shape[0])\n",
    "    print \"numtracks reduction by cuts: \", shapechange\n",
    "    # calc centers\n",
    "    # to brick reference frame and center\n",
    "    pmc['m_BT_X'] = pmc.BT_X.apply(lambda x: x.mean())\n",
    "    pmc['m_BT_Y'] = pmc.BT_Y.apply(lambda x: x.mean())\n",
    "    pmc['m_BT_Z'] = pmc.BT_Z.apply(lambda x: x.mean())\n",
    "    pmc.BT_X += BRICK_X / 2\n",
    "    pmc.BT_Y += BRICK_Y / 2\n",
    "    pmc.BT_Z += BRICK_Z / 2\n",
    "    pmc.ele_x += BRICK_X / 2\n",
    "    pmc.ele_y += BRICK_Y / 2\n",
    "    pmc.ele_z += BRICK_Z / 2\n",
    "    #print \"len(pmc): {len}\".format(len=len(pmc))\n",
    "    return pmc\n",
    "    "
   ]
  },
  {
   "cell_type": "code",
   "execution_count": 3,
   "metadata": {
    "collapsed": false
   },
   "outputs": [],
   "source": [
    "def plot_ith_quiver(mc, id=0):\n",
    "    z = mc[id]\n",
    "    dZ = 30\n",
    "    U = z[\"BT_SX\"] * dZ\n",
    "    V = z[\"BT_SY\"] * dZ\n",
    "    W = dZ\n",
    "    fig = plt.figure(figsize=(10,6))\n",
    "    ax = fig.gca(projection='3d')\n",
    "    _ = ax.quiver(z[\"BT_X\"], z[\"BT_Y\"], z[\"BT_Z\"], U, V, W, length=100)\n",
    "    ax.set_xlabel(\"x\")\n",
    "    ax.set_ylabel(\"y\")\n",
    "    ax.set_zlabel(\"z\")\n",
    "    print \"electron momentum: {p:.2f}, len(slopes): {slopes}\".format(p=z['ele_P'], slopes=len(U))"
   ]
  },
  {
   "cell_type": "code",
   "execution_count": 13,
   "metadata": {
    "collapsed": true
   },
   "outputs": [],
   "source": [
    "def plot_mc(mcdf, id=0):\n",
    "    dZ = 205\n",
    "    df = mcdf.iloc[id]\n",
    "    # mind the order!\n",
    "    d0 = pd.DataFrame([\n",
    "                df['BT_Z'],\n",
    "                df['BT_X'],\n",
    "                df['BT_Y']],\n",
    "                index=['z', 'x', 'y']).T\n",
    "    numtracks = d0.shape[0]\n",
    "    dd = pd.DataFrame([\n",
    "            df['BT_SX']*dZ,\n",
    "            df['BT_SY']*dZ],\n",
    "            index=['x', 'y']).T\n",
    "    dd.insert(loc=0, column='z', value=dZ)\n",
    "    d1 = d0 + dd\n",
    "    # print d0, d1\n",
    "    C = plt.cm.Reds(0.5)\n",
    "    lc = Line3DCollection(zip(d0.values, d1.values), colors=C, alpha=0.9, lw=2)\n",
    "\n",
    "    fig = plt.figure(figsize=(12,8))\n",
    "    ax = fig.gca(projection='3d')\n",
    "    ax.view_init(azim=-103, elev=16)\n",
    "    ax.add_collection3d(lc)\n",
    "    \n",
    "    # mind the order!\n",
    "    ax.set_xlabel(\"z\")\n",
    "    ax.set_ylabel(\"x\")\n",
    "    ax.set_zlabel(\"y\")  \n",
    "    ax.set_xlim(d0['z'].min(), d0['z'].max())\n",
    "    ax.set_ylim(d0['x'].min(), d0['x'].max())\n",
    "    ax.set_zlim(d0['y'].min(), d0['y'].max())\n",
    "    print \"len(slopes): {slopes}\".format(slopes=numtracks)"
   ]
  },
  {
   "cell_type": "code",
   "execution_count": 14,
   "metadata": {
    "collapsed": false
   },
   "outputs": [
    {
     "name": "stdout",
     "output_type": "stream",
     "text": [
      "numtracks reduction by cuts:  [188, 186, 109, 50, 19, 19]\n",
      "len(slopes): 731\n"
     ]
    }
   ],
   "source": [
    "%matplotlib qt\n",
    "mc = load_mc(step=100)\n",
    "plot_mc(mc, id=0)"
   ]
  },
  {
   "cell_type": "code",
   "execution_count": 7,
   "metadata": {
    "collapsed": false
   },
   "outputs": [],
   "source": [
    "def meta_mc_analyse(mc):\n",
    "    #_ = plt.hist(mc['ele_P'], bins=100, range=[0, 5])\n",
    "    lens = map(lambda x: len(x[1].BT_X), mc.iterrows())\n",
    "    _ = plt.hist(lens, bins=100, range=(0,20))\n",
    "    p = pd.DataFrame(lens)\n",
    "    #print p\n",
    "    print p[p[0] < 3]"
   ]
  }
 ],
 "metadata": {
  "kernelspec": {
   "display_name": "Python 2",
   "language": "python",
   "name": "python2"
  },
  "language_info": {
   "codemirror_mode": {
    "name": "ipython",
    "version": 2
   },
   "file_extension": ".py",
   "mimetype": "text/x-python",
   "name": "python",
   "nbconvert_exporter": "python",
   "pygments_lexer": "ipython2",
   "version": "2.7.11"
  }
 },
 "nbformat": 4,
 "nbformat_minor": 0
}
