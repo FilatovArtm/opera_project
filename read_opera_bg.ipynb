{
 "cells": [
  {
   "cell_type": "code",
   "execution_count": 2,
   "metadata": {
    "collapsed": false
   },
   "outputs": [
    {
     "name": "stderr",
     "output_type": "stream",
     "text": [
      "/Users/artem/anaconda/envs/py27/lib/python2.7/site-packages/matplotlib/font_manager.py:273: UserWarning: Matplotlib is building the font cache using fc-list. This may take a moment.\n",
      "  warnings.warn('Matplotlib is building the font cache using fc-list. This may take a moment.')\n",
      "/Users/artem/anaconda/envs/py27/lib/python2.7/site-packages/IPython/html.py:14: ShimWarning: The `IPython.html` package has been deprecated. You should import from `notebook` instead. `IPython.html.widgets` has moved to `ipywidgets`.\n",
      "  \"`IPython.html.widgets` has moved to `ipywidgets`.\", ShimWarning)\n"
     ]
    }
   ],
   "source": [
    "%matplotlib osx\n",
    "from mpl_toolkits.mplot3d import Axes3D\n",
    "from mpl_toolkits.mplot3d.art3d import Line3DCollection\n",
    "from matplotlib import pylab as plt\n",
    "import root_numpy\n",
    "import pandas as pd\n",
    "import numpy\n",
    "import seaborn"
   ]
  },
  {
   "cell_type": "markdown",
   "metadata": {},
   "source": [
    "## test"
   ]
  },
  {
   "cell_type": "code",
   "execution_count": 6,
   "metadata": {
    "collapsed": false
   },
   "outputs": [],
   "source": [
    "def load_bg(step=10000):\n",
    "    # ignore 57th layer since it looks different\n",
    "    etalon_plates = []\n",
    "    for p in range(48, 57):\n",
    "        backtracks = root_numpy.root2array(\"129294.{p}.1.1000.cp.root\".format(p=p), \n",
    "                                       treename=\"couples\", \n",
    "                                       branches=[\"s.eX\", \"s.eY\", \"s.eZ\",\n",
    "                                                \"s.eTX\", \"s.eTY\",\n",
    "                                                \"s.eChi2\"], step=step)\n",
    "        etalon_plates.append(backtracks)\n",
    "        \n",
    "    df = None\n",
    "    for p in range(58):\n",
    "        plate = numpy.copy(etalon_plates[p % len(etalon_plates)])\n",
    "        plate['s.eZ'] = p * 1293\n",
    "        # plt.hist(backtracks['s.eY'], bins=100, histtype='step', label=\"%d\"%p)\n",
    "        if df is None:\n",
    "            df = pd.DataFrame(plate)\n",
    "            # print \">\", df.shape\n",
    "        else:\n",
    "            df = pd.concat([df, pd.DataFrame(plate)], ignore_index=True)\n",
    "    # plt.legend()\n",
    "    print \"bg: {n} tracks\".format(n=df.shape[0])\n",
    "    return df"
   ]
  },
  {
   "cell_type": "code",
   "execution_count": 7,
   "metadata": {
    "collapsed": false
   },
   "outputs": [],
   "source": [
    "#_ = plt.hist(backtracks['s.eX'], bins=100, histtype='step', lw=3)\n",
    "#_ = plt.hist(backtracks['s.eY'], bins=100, histtype='step', lw=3)\n",
    "#_ = plt.hist(backtracks['s.eZ'], bins=100, histtype='step', lw=3)"
   ]
  },
  {
   "cell_type": "code",
   "execution_count": 8,
   "metadata": {
    "collapsed": false
   },
   "outputs": [],
   "source": [
    "def plot_bg_quiver(step):\n",
    "    backtracks = df\n",
    "    x, y, z = backtracks['s.eX'][::step], backtracks['s.eY'][::step], backtracks['s.eZ'][::step]\n",
    "    tx, ty = backtracks['s.eTX'][::step], backtracks['s.eTY'][::step]\n",
    "    dZ = 204\n",
    "    U = tx * dZ\n",
    "    V = ty * dZ\n",
    "    W = dZ\n",
    "    length = numpy.sqrt(U**2 + V**2 + W**2)\n",
    "    fig = plt.figure(figsize=(12,8))\n",
    "    ax = fig.gca(projection='3d')\n",
    "    ax.view_init(azim=-74, elev=19)\n",
    "    # change order to make display similar to OPERA\n",
    "    C = plt.cm.jet(numpy.repeat(numpy.linspace(0,1, num=len(x)),1))\n",
    "    for i in range(len(z)):\n",
    "        print \"line: \", i, z[i], x[i], y[i], W, U[i], V[i]\n",
    "        plt.quiver(z[i], x[i], y[i], \n",
    "                   W, U[i], V[i], \n",
    "                   arrow_length_ratio=0,\n",
    "                   length=length[i],\n",
    "                   pivot='tail',\n",
    "                   colors=C)\n",
    "    ax.set_xlabel(\"z\")\n",
    "    ax.set_ylabel(\"x\")\n",
    "    ax.set_zlabel(\"y\")\n",
    "    ax.set_xlim(left=-dZ, right=max(df['s.eZ'])+dZ)\n",
    "    print \"len(slopes): {slopes}\".format(slopes=len(U))\n",
    "#     print tx, ty, U, V, W"
   ]
  },
  {
   "cell_type": "code",
   "execution_count": 9,
   "metadata": {
    "collapsed": false
   },
   "outputs": [],
   "source": [
    "def plot_bg(df, step=1):\n",
    "    dZ = 205\n",
    "    # mind the order!\n",
    "    d0 = pd.DataFrame([\n",
    "                df['s.eZ'][::step],\n",
    "                df['s.eX'][::step],\n",
    "                df['s.eY'][::step]],\n",
    "                index=['z', 'x', 'y']).T\n",
    "    numtracks = d0.shape[0]\n",
    "    dd = pd.DataFrame([\n",
    "            df['s.eTX'][::step]*dZ,\n",
    "            df['s.eTY'][::step]*dZ],\n",
    "            index=['x', 'y']).T\n",
    "    dd.insert(loc=0, column='z', value=dZ)\n",
    "    d1 = d0 + dd\n",
    "    # print d0, d1\n",
    "    C = plt.cm.Blues(0.5)\n",
    "    lc = Line3DCollection(zip(d0.values, d1.values), colors=C, alpha=0.5, lw=2)\n",
    "\n",
    "    fig = plt.figure(figsize=(12,8))\n",
    "    ax = fig.gca(projection='3d')\n",
    "    ax.view_init(azim=-84, elev=10)\n",
    "    ax.add_collection3d(lc)\n",
    "    \n",
    "    # mind the order!\n",
    "    ax.set_xlabel(\"z\")\n",
    "    ax.set_ylabel(\"x\")\n",
    "    ax.set_zlabel(\"y\")  \n",
    "    ax.set_xlim(d0['z'].min(), d0['z'].max())\n",
    "    ax.set_ylim(d0['x'].min(), d0['x'].max())\n",
    "    ax.set_zlim(d0['y'].min(), d0['y'].max())\n",
    "    print \"len(slopes): {slopes}\".format(slopes=numtracks)"
   ]
  },
  {
   "cell_type": "code",
   "execution_count": 10,
   "metadata": {
    "collapsed": false,
    "scrolled": true
   },
   "outputs": [
    {
     "name": "stdout",
     "output_type": "stream",
     "text": [
      "bg: 2767 tracks\n",
      "len(slopes): 2767\n"
     ]
    }
   ],
   "source": [
    "#%matplotlib qt\n",
    "df = load_bg(step=10000)\n",
    "plot_bg(df, step=1)"
   ]
  },
  {
   "cell_type": "code",
   "execution_count": null,
   "metadata": {
    "collapsed": true
   },
   "outputs": [],
   "source": []
  },
  {
   "cell_type": "code",
   "execution_count": null,
   "metadata": {
    "collapsed": true
   },
   "outputs": [],
   "source": []
  }
 ],
 "metadata": {
  "kernelspec": {
   "display_name": "Python 2",
   "language": "python",
   "name": "python2"
  },
  "language_info": {
   "codemirror_mode": {
    "name": "ipython",
    "version": 2
   },
   "file_extension": ".py",
   "mimetype": "text/x-python",
   "name": "python",
   "nbconvert_exporter": "python",
   "pygments_lexer": "ipython2",
   "version": "2.7.11"
  }
 },
 "nbformat": 4,
 "nbformat_minor": 0
}
