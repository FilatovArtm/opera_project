{
 "cells": [
  {
   "cell_type": "code",
   "execution_count": 1,
   "metadata": {
    "collapsed": false
   },
   "outputs": [
    {
     "name": "stderr",
     "output_type": "stream",
     "text": [
      "/Users/artem/anaconda/envs/py27/lib/python2.7/site-packages/matplotlib/font_manager.py:273: UserWarning: Matplotlib is building the font cache using fc-list. This may take a moment.\n",
      "  warnings.warn('Matplotlib is building the font cache using fc-list. This may take a moment.')\n",
      "/Users/artem/anaconda/envs/py27/lib/python2.7/site-packages/IPython/html.py:14: ShimWarning: The `IPython.html` package has been deprecated. You should import from `notebook` instead. `IPython.html.widgets` has moved to `ipywidgets`.\n",
      "  \"`IPython.html.widgets` has moved to `ipywidgets`.\", ShimWarning)\n"
     ]
    }
   ],
   "source": [
    "%run nbloader.py\n",
    "import seaborn\n",
    "from mpl_toolkits.mplot3d import Axes3D\n",
    "from mpl_toolkits.mplot3d.art3d import Line3DCollection\n",
    "from matplotlib import pylab as plt\n",
    "import root_numpy\n",
    "import pandas as pd\n",
    "import math\n",
    "import numpy as np\n",
    "\n",
    "\n",
    "BRICK_X = 124000\n",
    "BRICK_Y = 99000\n",
    "BRICK_Z = 75000\n",
    "SAFE_M = 10000\n",
    "dZ = 205"
   ]
  },
  {
   "cell_type": "code",
   "execution_count": 2,
   "metadata": {
    "collapsed": false
   },
   "outputs": [
    {
     "name": "stdout",
     "output_type": "stream",
     "text": [
      "importing notebook from read_opera_bg.ipynb\n",
      "bg: 2767 tracks\n",
      "len(slopes): 2767\n",
      "importing notebook from read_opera_mc.ipynb\n",
      "Warning: Cannot change to a different GUI toolkit: qt. Using osx instead.\n",
      "numtracks reduction by cuts:  [188, 186, 109, 50, 19, 19]\n",
      "len(slopes): 731\n",
      "bg: 546462 tracks\n",
      "numtracks reduction by cuts:  [18724, 18678, 11058, 5389, 2799, 2684]\n"
     ]
    }
   ],
   "source": [
    "from read_opera_bg import load_bg;\n",
    "from read_opera_mc import load_mc;\n",
    "pbg = load_bg(step=50);\n",
    "pmc = load_mc(step=1);"
   ]
  },
  {
   "cell_type": "code",
   "execution_count": 3,
   "metadata": {
    "collapsed": true
   },
   "outputs": [],
   "source": [
    "def alpha_creator(dmix, electron):\n",
    "    dZ = 204\n",
    "    \n",
    "    xb = dmix[:, 0] - electron['ele_x']\n",
    "    yb = dmix[:, 1] - electron['ele_y']\n",
    "    zb = dmix[:, 2] - electron['ele_z']\n",
    "    \n",
    "    xe = dZ * electron['ele_sx']\n",
    "    ye = dZ * electron['ele_sy']\n",
    "    ze = dZ\n",
    "    \n",
    "    result = np.arccos((xb * xe + yb * ye + zb * ze)/(((xb**2 + yb**2 + zb**2)**0.5) * ((xe**2 + ye**2 + ze**2)**0.5)))\n",
    "    \n",
    "    dmix = np.column_stack((dmix, result))\n",
    "    \n",
    "    return dmix\n",
    "\n",
    "def feature_creator(dmix, electron):\n",
    "    dZ = 204\n",
    "    \n",
    "    xb_2 = dZ * dmix[:, 3]\n",
    "    yb_2 = dZ * dmix[:, 4]\n",
    "    zb_2 = dZ\n",
    "    \n",
    "    xe = dZ * electron['ele_sx']\n",
    "    ye = dZ * electron['ele_sy']\n",
    "    ze = dZ\n",
    "    result = np.arccos((xb_2 * xe + yb_2 * ye + zb_2 * ze)/(((xb_2**2 + yb_2**2 + zb_2**2)**0.5) * ((xe**2 + ye**2 + ze**2)**0.5)))\n",
    "    dmix = np.column_stack((dmix, result))\n",
    "    \n",
    "    zb = dmix[:, 2] - electron['ele_z']\n",
    "    xp = dmix[:, 0]  + xb_2\n",
    "    yp = dmix[:, 1]  + yb_2\n",
    "    zp = dmix[:, 2] + dZ\n",
    "    \n",
    "    el = np.array(electron[0:3], dtype = float)\n",
    "    IP_0 = np.transpose(np.array([xp, yp, zp], dtype = float))\n",
    "    IP_1 = np.transpose(np.array([dmix[:, 0], dmix[:, 1], dmix[:, 2]], dtype = float))\n",
    "    \n",
    "    IP = np.linalg.norm(np.cross(el - IP_0, el - IP_1), axis = 1)/np.linalg.norm(IP_0 - IP_1, axis = 1)\n",
    "    \n",
    "    \n",
    "\n",
    "    dmix = np.column_stack((dmix, IP / zb))\n",
    "    dmix = np.column_stack((dmix, electron['ele_sx'] - dmix[:, 3]))\n",
    "    dmix = np.column_stack((dmix, electron['ele_sy'] - dmix[:, 4]))\n",
    "    dmix = np.column_stack((dmix, dmix[:, 2] - electron['ele_z']))\n",
    "                               \n",
    "    return dmix\n",
    "                  \n",
    "\n",
    "\n",
    "def combine_mc_bg(pmc, pbg, cone_angle = 0.05, begin = 0, end = 50):\n",
    "    dZ = 204\n",
    "    dmix = pd.DataFrame([\n",
    "                pbg['s.eX'],\n",
    "                pbg['s.eY'],\n",
    "                pbg['s.eZ'],\n",
    "                pbg['s.eTX'],\n",
    "                pbg['s.eTY']],\n",
    "                index=['b_x', 'b_y', 'b_z', 'b_sx', 'b_sy']).T\n",
    "    dmix['signal'] = 0\n",
    "    \n",
    "    dmix = np.asarray(dmix)\n",
    "    final_data = pd.DataFrame().T\n",
    "\n",
    "    for i in range(begin ,end):\n",
    "        df = pmc.iloc[i]\n",
    "        d0 = pd.DataFrame([\n",
    "                df['BT_X'],\n",
    "                df['BT_Y'],\n",
    "                df['BT_Z'] - df['BT_Z'] % 1293,\n",
    "                df['BT_SX'],\n",
    "                df['BT_SY']],\n",
    "                index=['b_x', 'b_y', 'b_z', 'b_sx', 'b_sy']).T\n",
    "        d0['signal'] = 1\n",
    "        \n",
    "        d0 = np.asarray(d0)\n",
    "        \n",
    "        data = np.concatenate((dmix, d0))\n",
    "        electron = pmc.iloc[i][['ele_x', 'ele_y', 'ele_z', 'ele_sx', 'ele_sy']]\n",
    "\n",
    "        data = alpha_creator(data, electron)\n",
    "        data = data[data[:, 6] < cone_angle, :]\n",
    "        if sum(data[:, 5] == 0) != 0:                                      \n",
    "            data = feature_creator(data, electron)\n",
    "            data = pd.DataFrame(data, \n",
    "            columns=['b_x', 'b_y', 'b_z', 'b_sx', 'b_sy', 'signal', 'alpha', 'alpha_2', 'IP', 'd_sx', 'd_sy', 'zb'])\n",
    "            data['event'] = df['Event_id']\n",
    "            final_data = pd.concat([data, final_data])\n",
    "\n",
    "    return final_data"
   ]
  },
  {
   "cell_type": "code",
   "execution_count": 4,
   "metadata": {
    "collapsed": true
   },
   "outputs": [],
   "source": [
    "from sklearn.externals import joblib\n",
    "gradientBoosting = joblib.load('model9.pkl') "
   ]
  },
  {
   "cell_type": "code",
   "execution_count": 5,
   "metadata": {
    "collapsed": false
   },
   "outputs": [],
   "source": [
    "events = combine_mc_bg(pmc, pbg, 0.09, begin = 0, end = 1000)"
   ]
  },
  {
   "cell_type": "code",
   "execution_count": 6,
   "metadata": {
    "collapsed": true
   },
   "outputs": [],
   "source": [
    "event_id_set = set(events['event'])\n",
    "features = list(set(events.columns) - {'event', 'signal', 'b_x', 'b_y', 'b_z', 'b_sx', 'b_sy'})"
   ]
  },
  {
   "cell_type": "code",
   "execution_count": 7,
   "metadata": {
    "collapsed": true
   },
   "outputs": [],
   "source": [
    "x = []\n",
    "y = []\n",
    "for i in event_id_set:\n",
    "    predict = events.loc[events['event'] == i, features]\n",
    "    predict\n",
    "    gbm_proba = gradientBoosting.predict_proba(predict.astype(np.float64))\n",
    "    y.append(float(pmc.loc[pmc['Event_id'] == i, 'ele_P']))\n",
    "    x.append(float(sum(gbm_proba[:,1] > 0.5)))"
   ]
  },
  {
   "cell_type": "code",
   "execution_count": 8,
   "metadata": {
    "collapsed": false
   },
   "outputs": [
    {
     "name": "stderr",
     "output_type": "stream",
     "text": [
      "/Users/artem/anaconda/envs/py27/lib/python2.7/site-packages/matplotlib/figure.py:397: UserWarning: matplotlib is currently using a non-GUI backend, so cannot show the figure\n",
      "  \"matplotlib is currently using a non-GUI backend, \"\n"
     ]
    },
    {
     "data": {
      "image/png": "[encoded data removed]",
      "text/plain": [
       "<matplotlib.figure.Figure at 0x1215a2890>"
      ]
     },
     "metadata": {},
     "output_type": "display_data"
    }
   ],
   "source": [
    "%matplotlib inline\n",
    "x = np.array(x)\n",
    "y = np.array(y)\n",
    "fig, ax = plt.subplots()\n",
    "fit = np.polyfit(x, y, deg=1)\n",
    "ax.plot(x, fit[0]*x + fit[1], color='red')\n",
    "ax.scatter(x, y)\n",
    "fig.show()"
   ]
  },
  {
   "cell_type": "code",
   "execution_count": 9,
   "metadata": {
    "collapsed": false
   },
   "outputs": [
    {
     "data": {
      "image/png": "[encoded data removed]",
      "text/plain": [
       "<matplotlib.figure.Figure at 0x1215e8b90>"
      ]
     },
     "metadata": {},
     "output_type": "display_data"
    }
   ],
   "source": [
    "from scipy.stats import norm\n",
    "energy_resoultion = (y - fit[0] * x- fit[1])/y\n",
    "mu, std = norm.fit(energy_resoultion)\n",
    "plt.hist(energy_resoultion, bins = 40, normed = True)\n",
    "\n",
    "xmin, xmax = plt.xlim()\n",
    "grid = np.linspace(xmin, xmax, 100)\n",
    "p = norm.pdf(grid, mu, std)\n",
    "plt.plot(grid, p, 'k', linewidth=2)\n",
    "title = \"Fit results: mu = %.2f,  std = %.2f\" % (mu, std)\n",
    "plt.title(title)\n",
    "\n",
    "plt.show()"
   ]
  },
  {
   "cell_type": "code",
   "execution_count": 10,
   "metadata": {
    "collapsed": false
   },
   "outputs": [
    {
     "name": "stdout",
     "output_type": "stream",
     "text": [
      "Length of chunk: 111\n",
      "Length of chunk: 136\n",
      "Length of chunk: 101\n",
      "Length of chunk: 83\n",
      "Length of chunk: 68\n",
      "Length of chunk: 42\n",
      "Length of chunk: 35\n",
      "Length of chunk: 17\n"
     ]
    }
   ],
   "source": [
    "E_REC = fit[0] * x +  fit[1]\n",
    "se = [[],[]]\n",
    "true_and_rec = np.array([y, E_REC])\n",
    "\n",
    "for i in range(8):\n",
    "    tmp = true_and_rec[:,(E_REC < 2 * i + 2) & (E_REC >= 2*i) ]\n",
    "    energy_res = np.std((tmp[0,:] - tmp[1,:])/tmp[0,:])\n",
    "    print \"Length of chunk: \" + str(len(tmp[0,:]))\n",
    "    se[0].append(energy_res)\n",
    "    se[1].append(np.mean(tmp[1]))\n",
    "fit_se = np.polyfit(1/np.sqrt(se[1]), se[0], deg=1)   "
   ]
  },
  {
   "cell_type": "code",
   "execution_count": 11,
   "metadata": {
    "collapsed": false
   },
   "outputs": [
    {
     "data": {
      "image/png": "[encoded data removed]",
      "text/plain": [
       "<matplotlib.figure.Figure at 0x11d2c0450>"
      ]
     },
     "metadata": {},
     "output_type": "display_data"
    }
   ],
   "source": [
    "fig, ax = plt.subplots()\n",
    "ax.plot(se[1], fit_se[0]/np.sqrt(se[1]) + fit_se[1], color='red')\n",
    "ax.scatter(se[1], se[0])\n",
    "fig.show()"
   ]
  }
 ],
 "metadata": {
  "kernelspec": {
   "display_name": "Python 2",
   "language": "python",
   "name": "python2"
  },
  "language_info": {
   "codemirror_mode": {
    "name": "ipython",
    "version": 2
   },
   "file_extension": ".py",
   "mimetype": "text/x-python",
   "name": "python",
   "nbconvert_exporter": "python",
   "pygments_lexer": "ipython2",
   "version": "2.7.11"
  }
 },
 "nbformat": 4,
 "nbformat_minor": 0
}
