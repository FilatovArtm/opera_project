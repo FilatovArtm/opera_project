{
 "cells": [
  {
   "cell_type": "code",
   "execution_count": null,
   "metadata": {
    "collapsed": true
   },
   "outputs": [],
   "source": [
    "%run nbloader.py\n",
    "import seaborn\n",
    "from mpl_toolkits.mplot3d import Axes3D\n",
    "from mpl_toolkits.mplot3d.art3d import Line3DCollection\n",
    "from matplotlib import pylab as plt\n",
    "import root_numpy\n",
    "import pandas as pd\n",
    "import math\n",
    "import numpy as np\n",
    "\n",
    "\n",
    "BRICK_X = 124000\n",
    "BRICK_Y = 99000\n",
    "BRICK_Z = 75000\n",
    "SAFE_M = 10000\n",
    "dZ = 205"
   ]
  },
  {
   "cell_type": "code",
   "execution_count": null,
   "metadata": {
    "collapsed": true
   },
   "outputs": [],
   "source": [
    "from read_opera_bg import load_bg\n",
    "from read_opera_mc import load_mc\n",
    "pbg = load_bg(step=50)\n",
    "pmc = load_mc(step=1)"
   ]
  },
  {
   "cell_type": "code",
   "execution_count": null,
   "metadata": {
    "collapsed": true
   },
   "outputs": [],
   "source": [
    "def alpha_creator(dmix, pmc, id):\n",
    "    dZ = 204\n",
    "    electron = pmc.iloc[id][['ele_x', 'ele_y', 'ele_z', 'ele_sx', 'ele_sy']]\n",
    "    xb = dmix['b_x'] - electron['ele_x']\n",
    "    yb = dmix['b_y'] - electron['ele_y']\n",
    "    zb = dmix['b_z'] - electron['ele_z']\n",
    "    \n",
    "    xe = dZ * electron['ele_sx']\n",
    "    ye = dZ * electron['ele_sy']\n",
    "    ze = dZ\n",
    "    \n",
    "    \n",
    "    dmix['alpha'] = (xb * xe + yb * ye + zb * ze)/(((xb**2 + yb**2 + zb**2)**0.5) * ((xe**2 + ye**2 + ze**2)**0.5))\n",
    "    dmix['alpha'] = dmix.apply(lambda x: math.acos(x['alpha']), axis=1)\n",
    "    \n",
    "    return dmix\n",
    "\n",
    "def feature_creator(dmix, pmc, id):\n",
    "    dZ = 204\n",
    "    electron = pmc.iloc[id][['ele_x', 'ele_y', 'ele_z', 'ele_sx', 'ele_sy']]\n",
    "    \n",
    "    xb_2 = dZ * dmix['b_sx']\n",
    "    yb_2 = dZ * dmix['b_sy']\n",
    "    zb_2 = dZ\n",
    "    \n",
    "    xe = dZ * electron['ele_sx']\n",
    "    ye = dZ * electron['ele_sy']\n",
    "    ze = dZ\n",
    "    \n",
    "    dmix['alpha_2'] = (xb_2 * xe + yb_2 * ye + zb_2 * ze)/(((xb_2**2 + yb_2**2 + zb_2**2)**0.5) * ((xe**2 + ye**2 + ze**2)**0.5))\n",
    "    dmix['alpha_2'] = dmix.apply(lambda x: math.acos(x['alpha_2']), axis=1)\n",
    "    \n",
    "    #xp = dmix['b_x']  - zb * dmix['b_sx'] \n",
    "    #yp = dmix['b_y']  - zb * dmix['b_sy'] \n",
    "    #dmix['IP'] = ((electron['ele_sx'] - xp)**2 + (electron['ele_sy'] - yp)**2)**0.5 / zb\n",
    "    \n",
    "    zb = dmix['b_z'] - electron['ele_z']\n",
    "    xp = dmix['b_x']  + dZ * dmix['b_sx'] \n",
    "    yp = dmix['b_y']  + dZ * dmix['b_sy']\n",
    "    zp = dmix['b_z'] + dZ\n",
    "    \n",
    "    el = np.array(electron[0:3], dtype = float)\n",
    "    IP_0 = np.array([xp, yp, zp], dtype = float)\n",
    "    IP_1 = np.array([dmix['b_x'], dmix['b_y'], dmix['b_z']], dtype = float)\n",
    "    length = len(xp)\n",
    "    IP = []\n",
    "    \n",
    "    for i in range(length):\n",
    "        IP.append(np.linalg.norm(np.cross(el - IP_0[:,i], el - IP_1[:,i]))/np.linalg.norm(IP_0[:,i] - IP_1[:,i]))\n",
    "    \n",
    "    dmix['IP'] = IP\n",
    "    dmix['IP'] = dmix['IP']/zb\n",
    "     \n",
    "    \n",
    "    dmix['d_sx'] = electron['ele_sx'] - dmix['b_sx']\n",
    "    dmix['d_sy'] = electron['ele_sy'] - dmix['b_sy']\n",
    "    dmix['zb'] = dmix['b_z'] - electron['ele_z']\n",
    "                               \n",
    "    return dmix\n",
    "                  \n",
    "\n",
    "\n",
    "def combine_mc_bg(pmc, pbg, cone_angle = 0.05, begin = 0, end = 50):\n",
    "    dZ = 204\n",
    "    dmix = pd.DataFrame([\n",
    "                pbg['s.eX'],\n",
    "                pbg['s.eY'],\n",
    "                pbg['s.eZ'],\n",
    "                pbg['s.eTX'],\n",
    "                pbg['s.eTY']],\n",
    "                index=['b_x', 'b_y', 'b_z', 'b_sx', 'b_sy']).T\n",
    "    dmix['signal'] = 0\n",
    "    final_data = pd.DataFrame().T\n",
    "\n",
    "    for i in range(begin ,end):\n",
    "        df = pmc.iloc[i]\n",
    "        d0 = pd.DataFrame([\n",
    "                df['BT_X'],\n",
    "                df['BT_Y'],\n",
    "                df['BT_Z'] - df['BT_Z'] % 1293,\n",
    "                df['BT_SX'],\n",
    "                df['BT_SY']],\n",
    "                index=['b_x', 'b_y', 'b_z', 'b_sx', 'b_sy']).T\n",
    "        d0['signal'] = 1\n",
    "        \n",
    "    \n",
    "        data = pd.concat([dmix, d0]) #pd.concat([dmix[i::a], d0])\n",
    "        data['event'] = df['Event_id']\n",
    "        data = alpha_creator(data, pmc, i) # change pmc with electron to save time\n",
    "        data = data.loc[data['alpha'] < cone_angle]  #save data only inside cone\n",
    "        if len(data.loc[data['signal'] == 0]['b_x']) != 0: #if there isn't any noise on \n",
    "                                                           #the way of shower - delete                                                # make sense?\n",
    "            data = feature_creator(data, pmc, i) #create fetures only for useful events\n",
    "            final_data = pd.concat([data, final_data])\n",
    "        \n",
    "    \n",
    "    return final_data"
   ]
  },
  {
   "cell_type": "code",
   "execution_count": null,
   "metadata": {
    "collapsed": true
   },
   "outputs": [],
   "source": [
    "dmix = combine_mc_bg(pmc, pbg, 0.05, 0, 1)\n",
    "features = list(set(dmix.columns) - {'event', 'signal', 'b_x', 'b_y', 'b_z', 'b_sx', 'b_sy'})"
   ]
  },
  {
   "cell_type": "code",
   "execution_count": null,
   "metadata": {
    "collapsed": true
   },
   "outputs": [],
   "source": [
    "%matplotlib inline\n",
    "hist_params = {'normed': True, 'bins': 60, 'alpha': 0.6}\n",
    "\n",
    "plt.figure(figsize=(10, 8))\n",
    "for n, feature in enumerate(features):\n",
    "    plt.subplot(len(features) // 2, 3, n+1)\n",
    "    min_value, max_value = np.percentile(dmix[feature], [1, 99])\n",
    "    plt.hist(dmix.ix[dmix.signal.values == 0, feature].values, range=(min_value, max_value), \n",
    "             label='class 0', **hist_params)\n",
    "    plt.hist(dmix.ix[dmix.signal.values == 1, feature].values, range=(min_value, max_value), \n",
    "             label='class 1', **hist_params)\n",
    "    plt.legend(loc='best')\n",
    "    plt.title(feature)"
   ]
  },
  {
   "cell_type": "code",
   "execution_count": null,
   "metadata": {
    "collapsed": true
   },
   "outputs": [],
   "source": [
    "plt.figure(figsize=[16,8])\n",
    "\n",
    "plt.title(\"zb\")\n",
    "plt.scatter(dmix.zb, np.random.normal(0,1,len(dmix.zb)) , c= dmix.signal,\n",
    "            alpha = 0.5)\n",
    "\n",
    "plt.colorbar()"
   ]
  },
  {
   "cell_type": "code",
   "execution_count": null,
   "metadata": {
    "collapsed": true
   },
   "outputs": [],
   "source": [
    "from sklearn.cross_validation import train_test_split\n",
    "from sklearn.metrics import roc_auc_score\n",
    "\n",
    "training_data, validation_data = train_test_split(dmix, random_state=11, train_size=0.9)\n",
    "\n",
    "from sklearn.ensemble import GradientBoostingClassifier as gbm\n",
    "gradientBoosting = gbm(n_estimators = 200, max_depth = 5)\n",
    "gradientBoosting.fit(training_data[features].astype(np.float64), training_data.signal.astype(np.bool))"
   ]
  },
  {
   "cell_type": "code",
   "execution_count": null,
   "metadata": {
    "collapsed": true
   },
   "outputs": [],
   "source": [
    "gbm_proba = gradientBoosting.predict_proba(validation_data[features].astype(np.float64))\n",
    "print roc_auc_score(validation_data.signal, gbm_proba[:,1])"
   ]
  },
  {
   "cell_type": "code",
   "execution_count": null,
   "metadata": {
    "collapsed": true
   },
   "outputs": [],
   "source": [
    "from sklearn.metrics import roc_curve\n",
    "from sklearn.ensemble import RandomForestClassifier as rf\n",
    "from sklearn.cross_validation import train_test_split\n",
    "from sklearn.metrics import roc_auc_score\n",
    "from sklearn.ensemble import GradientBoostingClassifier as gbm\n",
    "\n",
    "fpr = dict()\n",
    "tpr = dict()\n",
    "models = dict()\n",
    "\n",
    "for alpha in list([0.06, 0.075, 0.09]):\n",
    "    dmix = combine_mc_bg(pmc, pbg, alpha)\n",
    "    features = list(set(dmix.columns) - {'event', 'signal', 'b_x', 'b_y', 'b_z', 'b_sx', 'b_sy'})\n",
    "    training_data, validation_data = train_test_split(dmix, random_state=11, train_size=0.9)\n",
    "    \n",
    "    gradientBoosting = gbm(n_estimators = 200, max_depth = 5)\n",
    "    gradientBoosting.fit(training_data[features].astype(np.float64), training_data.signal.astype(np.bool))\n",
    "    gbm_proba = gradientBoosting.predict_proba(validation_data[features].astype(np.float64))\n",
    "    fpr[alpha], tpr[alpha], _ = roc_curve(validation_data.signal, gbm_proba[:,1])\n",
    "    models[\"model{0}\".format(alpha)] = gradientBoosting\n",
    "    \n",
    "    print str(alpha) + \": \" + str(roc_auc_score(validation_data.signal, gbm_proba[:,1]))"
   ]
  },
  {
   "cell_type": "code",
   "execution_count": null,
   "metadata": {
    "collapsed": true
   },
   "outputs": [],
   "source": [
    "%matplotlib inline\n",
    "for alpha in list([0.06, 0.075, 0.09]):\n",
    "    plt.plot(fpr[alpha],tpr[alpha])\n",
    "plt.show()"
   ]
  },
  {
   "cell_type": "code",
   "execution_count": null,
   "metadata": {
    "collapsed": true
   },
   "outputs": [],
   "source": [
    "from sklearn.externals import joblib\n",
    "joblib.dump(models['model0.06'], 'model06.pkl');\n",
    "joblib.dump(models['model0.075'], 'model75.pkl');\n",
    "joblib.dump(models['model0.09'], 'model9.pkl');"
   ]
  }
 ],
 "metadata": {
  "kernelspec": {
   "display_name": "Python 2",
   "language": "python",
   "name": "python2"
  },
  "language_info": {
   "codemirror_mode": {
    "name": "ipython",
    "version": 2
   },
   "file_extension": ".py",
   "mimetype": "text/x-python",
   "name": "python",
   "nbconvert_exporter": "python",
   "pygments_lexer": "ipython2",
   "version": "2.7.11"
  }
 },
 "nbformat": 4,
 "nbformat_minor": 0
}
