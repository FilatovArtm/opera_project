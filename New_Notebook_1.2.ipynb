{
 "cells": [
  {
   "cell_type": "markdown",
   "metadata": {},
   "source": [
    "### Library loading"
   ]
  },
  {
   "cell_type": "code",
   "execution_count": 1,
   "metadata": {
    "collapsed": true
   },
   "outputs": [],
   "source": [
    "%run nbloader.py\n",
    "import matplotlib\n",
    "import seaborn\n",
    "from mpl_toolkits.mplot3d import Axes3D\n",
    "from mpl_toolkits.mplot3d.art3d import Line3DCollection\n",
    "from matplotlib import pyplot as plt\n",
    "import root_numpy\n",
    "import pandas as pd\n",
    "import numpy as np\n",
    "from sklearn.svm import SVC\n",
    "\n",
    "from multiprocessing import Pool\n",
    "BRICK_X = 124000\n",
    "BRICK_Y = 99000\n",
    "BRICK_Z = 75000\n",
    "SAFE_M = 10000\n",
    "dZ = 205\n",
    "LAYER_DIFF = 1293"
   ]
  },
  {
   "cell_type": "markdown",
   "metadata": {},
   "source": [
    "### Functions"
   ]
  },
  {
   "cell_type": "markdown",
   "metadata": {},
   "source": [
    "#### Data load"
   ]
  },
  {
   "cell_type": "code",
   "execution_count": 2,
   "metadata": {
    "collapsed": true
   },
   "outputs": [],
   "source": [
    "def load_mc(filename=\"data/mcdata2.root\", step=1):\n",
    "    mc = root_numpy.root2array(\n",
    "                        filename,\n",
    "                        treename=\"Data\",\n",
    "                        branches=[\"Event_id\", \"ele_P\",\n",
    "                                   \"BT_X\", \"BT_Y\", \"BT_Z\",\n",
    "                                   \"BT_SX\", \"BT_SY\", \"BT_plate\",\n",
    "                                   \"ele_x\", \"ele_y\", \"ele_z\", \n",
    "                                   \"ele_sx\", \"ele_sy\", \n",
    "                                   \"chisquare\", \"alfa\", \"deltaSx\", \"deltaSy\"],\n",
    "                        step=step)\n",
    "    pmc = pd.DataFrame(mc)\n",
    "    pmc['numtracks'] = pmc.BT_X.apply(lambda x: len(x))\n",
    "    # cuts\n",
    "    shapechange = [pmc.shape[0]]\n",
    "    pmc = pmc[pmc.ele_P > 0.1]\n",
    "    shapechange.append(pmc.shape[0])\n",
    "    pmc = pmc[pmc.ele_x.abs() < BRICK_X / 2 - SAFE_M]\n",
    "    shapechange.append(pmc.shape[0])\n",
    "    pmc = pmc[pmc.ele_y.abs() < BRICK_Y / 2 - SAFE_M]\n",
    "    shapechange.append(pmc.shape[0])\n",
    "    pmc = pmc[pmc.ele_z < 0]\n",
    "    shapechange.append(pmc.shape[0])\n",
    "    pmc = pmc[pmc.numtracks > 3]\n",
    "    shapechange.append(pmc.shape[0])\n",
    "    print (\"numtracks reduction by cuts: \", shapechange)\n",
    "    pmc.BT_X += BRICK_X / 2\n",
    "    pmc.BT_Y += BRICK_Y / 2\n",
    "    pmc.BT_Z += BRICK_Z / 2\n",
    "    pmc.ele_x += BRICK_X / 2\n",
    "    pmc.ele_y += BRICK_Y / 2\n",
    "    pmc.ele_z += BRICK_Z / 2\n",
    "\n",
    "    pmc.BT_Z = (pmc.BT_plate - 1) * 1293\n",
    "    \n",
    "    return pmc\n",
    "    "
   ]
  },
  {
   "cell_type": "code",
   "execution_count": 3,
   "metadata": {
    "collapsed": true
   },
   "outputs": [],
   "source": [
    "def load_bg(step=10000):\n",
    "    # ignore 57th layer since it looks different\n",
    "    etalon_plates = []\n",
    "    for p in range(48, 57):\n",
    "        backtracks = root_numpy.root2array(\"data/129294.{p}.1.1000.cp.root\".format(p=p), \n",
    "                                       treename=\"couples\", \n",
    "                                       branches=[\"s.eX\", \"s.eY\", \"s.eZ\",\n",
    "                                                \"s.eTX\", \"s.eTY\",\n",
    "                                                \"s.eChi2\"], step=step)\n",
    "        etalon_plates.append(backtracks)\n",
    "        \n",
    "    df = None\n",
    "    for p in range(58):\n",
    "        plate = np.copy(etalon_plates[p % len(etalon_plates)])\n",
    "        plate['s.eZ'] = p * 1293\n",
    "        if df is None:\n",
    "            df = pd.DataFrame(plate)\n",
    "        else:\n",
    "            df = pd.concat([df, pd.DataFrame(plate)], ignore_index=True)\n",
    "    df['plate_index'] = df['s.eZ'].astype('category').cat.codes + 1\n",
    "    print (\"bg: {n} tracks\".format(n=df.shape[0]))\n",
    "    return df"
   ]
  },
  {
   "cell_type": "code",
   "execution_count": 4,
   "metadata": {
    "collapsed": true
   },
   "outputs": [],
   "source": [
    "import numpy as np\n",
    "import pandas as pd\n",
    "\n",
    "BT_Z_unique = np.array([     0.,   1293.,   2586.,   3879.,   5172.,   6465.,   7758.,\n",
    "                          9051.,  10344.,  11637.,  12930.,  14223.,  15516.,  16809.,\n",
    "                         18102.,  19395.,  20688.,  21981.,  23274.,  24567.,  25860.,\n",
    "                         27153.,  28446.,  29739.,  31032.,  32325.,  33618.,  34911.,\n",
    "                         36204.,  37497.,  38790.,  40083.,  41376.,  42669.,  43962.,\n",
    "                         45255.,  46548.,  47841.,  49134.,  50427.,  51720.,  53013.,\n",
    "                         54306.,  55599.,  56892.,  58185.,  59478.,  60771.,  62064.,\n",
    "                         63357.,  64650.,  65943.,  67236.,  68529.,  69822.,  71115.,\n",
    "                         72408.,  73701.])\n",
    "BRICK_X_MIN = 27762\n",
    "BRICK_X_MAX = 72240\n",
    "BRICK_Y_MIN = 3312\n",
    "BRICK_Y_MAX = 76710\n",
    "SAFE_M = 5000\n",
    "dZ = 205\n",
    "\n",
    "def shift_mc_data_with_margin(pmc, pbg, x_safe_margin = 0, y_safe_margin = 0):\n",
    "    pmc_new = pmc.copy()\n",
    "    mc_range = (pmc['ele_x'].max() - pmc['ele_x'].min(), pmc['ele_y'].max() - pmc['ele_y'].min())\n",
    "    def coordinate_mover(x, min_mc_coord, amplitude, margin):\n",
    "        return ((x - min_mc_coord) / amplitude - 0.5) * 2* (- margin - (left_bound - right_bound) / 2) +\\\n",
    "                (left_bound + right_bound) / 2\n",
    "    \n",
    "    right_bound = pbg['s.eX'].max()\n",
    "    left_bound = pbg['s.eX'].min()\n",
    "    \n",
    "    pmc_new.ele_x = coordinate_mover(pmc.ele_x, pmc['ele_x'].min(), mc_range[0], x_safe_margin)\n",
    "    pmc_new.BT_X = pmc['BT_X'] - (pmc['ele_x'] - pmc_new.ele_x)\n",
    "    \n",
    "    right_bound = pbg['s.eY'].max()\n",
    "    left_bound = pbg['s.eY'].min()    \n",
    "    \n",
    "    pmc_new.ele_y = coordinate_mover(pmc.ele_y, pmc['ele_y'].min(), mc_range[1], y_safe_margin)\n",
    "    pmc_new.BT_Y = pmc['BT_Y'] - (pmc['ele_y'] - pmc_new.ele_y)\n",
    "    return pmc_new\n",
    "\n",
    "def combine_mc_bg(pmc, pbg, events = [0], bg_frac=0.1):\n",
    "    '''Create mixed DataFrame from selected MC Even_Id's and\n",
    "       fraction of background'''\n",
    "    #first of all generate background with random permutation by Z-axis\n",
    "    \n",
    "    pbg_frac = pbg.sample(frac=bg_frac)\n",
    "    pbg_frac['s.eZ'] = np.random.choice(BT_Z_unique, size=len(pbg_frac))\n",
    "    dmix = pd.DataFrame([\n",
    "                pbg_frac['s.eX'],\n",
    "                pbg_frac['s.eY'],\n",
    "                pbg_frac['s.eZ'],\n",
    "                pbg_frac['s.eTX'],\n",
    "                pbg_frac['s.eTY'],\n",
    "                pbg_frac['s.eChi2']],\n",
    "                index=['X', 'Y', 'Z', 'TX', 'TY', 'chi2']).T\n",
    "    dmix['plate_number'] = pbg_frac['s.eZ'].apply(lambda x:\n",
    "                                                  np.where(BT_Z_unique == x)[0][0] + 1)\n",
    "    dmix['signal'] = False\n",
    "    dmix['event_id'] = -999\n",
    "    \n",
    "    dd = dmix\n",
    "    print(\"Number of BG basetracks:\", dmix.shape[0])\n",
    "    #now we are generating signal by shifting electron position\n",
    "    \n",
    "    pmc_new = shift_mc_data_with_margin(pmc, pbg, 5000, 5000)\n",
    "    pmc_new['chisquare'] = pmc_new.chisquare.apply(lambda x: x[x < 3]) \n",
    "    df = pmc_new[pmc_new.Event_id.isin(events)]\n",
    "    print(\"Number of MC events:\", df.shape[0])\n",
    "    \n",
    "    for _, row in df.iterrows():\n",
    "        dmc = pd.DataFrame([        \n",
    "                    row['BT_X'],\n",
    "                    row['BT_Y'],\n",
    "                    row['BT_Z'],\n",
    "                    row['BT_SX'],\n",
    "                    row['BT_SY'],\n",
    "                    row['chisquare']],\n",
    "                    index=['X', 'Y', 'Z', 'TX', 'TY', 'chi2']).T\n",
    "        dmc['plate_number'] = row['BT_plate']\n",
    "        dmc['signal'] = True\n",
    "        dmc['event_id'] = row['Event_id']\n",
    "        \n",
    "        dd = pd.concat([dd, dmc], ignore_index=True)\n",
    "\n",
    "    return dd"
   ]
  },
  {
   "cell_type": "markdown",
   "metadata": {},
   "source": [
    "### Utils"
   ]
  },
  {
   "cell_type": "code",
   "execution_count": 5,
   "metadata": {
    "collapsed": true
   },
   "outputs": [],
   "source": [
    "def compute_track_continuation(track):\n",
    "    return track[0] + LAYER_DIFF * track[3], track[1] + LAYER_DIFF * track[4]"
   ]
  },
  {
   "cell_type": "markdown",
   "metadata": {},
   "source": [
    "#### Plot functions"
   ]
  },
  {
   "cell_type": "code",
   "execution_count": 6,
   "metadata": {
    "collapsed": true
   },
   "outputs": [],
   "source": [
    "def plot_bg_and_mc(pbg, pmc, id=0, step=1):\n",
    "    df = pbg\n",
    "    # mind the order!\n",
    "    d0 = pd.DataFrame([\n",
    "                df['Z'][::step],\n",
    "                df['X'][::step],\n",
    "                df['Y'][::step]],\n",
    "                index=['z', 'x', 'y']).T\n",
    "    numtracks = d0.shape[0]\n",
    "    dd = pd.DataFrame([\n",
    "            df['TX'][::step]*dZ,\n",
    "            df['TY'][::step]*dZ],\n",
    "            index=['x', 'y']).T\n",
    "    dd.insert(loc=0, column='z', value=dZ)\n",
    "    d1 = d0 + dd\n",
    "    # print d0, d1\n",
    "    C = plt.cm.Blues(0.5)\n",
    "    lc_bg = Line3DCollection(list(zip(d0.values, d1.values)), colors=C, alpha=0.5, lw=2)\n",
    "\n",
    "    df = pmc\n",
    "\n",
    "    # mind the order!\n",
    "    d0 = pd.DataFrame([\n",
    "                df['Z'],\n",
    "                df['X'],\n",
    "                df['Y']],\n",
    "                index=['z', 'x', 'y']).T\n",
    "    numtracks = d0.shape[0]\n",
    "    dd = pd.DataFrame([\n",
    "            df['TX']*dZ,\n",
    "            df['TY']*dZ],\n",
    "            index=['x', 'y']).T\n",
    "    dd.insert(loc=0, column='z', value=dZ)\n",
    "    d1 = d0 + dd\n",
    "    print(d1.shape)\n",
    "    #print (d0)§\n",
    "    C = plt.cm.Reds(0.5)\n",
    "    lc_mc = Line3DCollection(list(zip(d0.values, d1.values)), colors=C, alpha=0.9, lw=2)\n",
    "    \n",
    "    fig = plt.figure(figsize=(12,8))\n",
    "    ax = fig.gca(projection='3d')\n",
    "    ax.view_init(azim=-0, elev=0)\n",
    "    ax.add_collection3d(lc_mc)\n",
    "    ax.add_collection3d(lc_bg)\n",
    "    \n",
    "    # mind the order!\n",
    "    ax.set_xlabel(\"z\")\n",
    "    ax.set_ylabel(\"x\")\n",
    "    ax.set_zlabel(\"y\")  \n",
    "    ax.set_xlim(0, BRICK_Z)\n",
    "    ax.set_ylim(0, BRICK_X)\n",
    "    ax.set_zlim(0, BRICK_Y)"
   ]
  },
  {
   "cell_type": "code",
   "execution_count": 7,
   "metadata": {
    "collapsed": true
   },
   "outputs": [],
   "source": [
    "def plot_pairs(d0, d1, df):\n",
    "    dZ = 205\n",
    "\n",
    "    # mind the order!\n",
    "    d00 = pd.DataFrame([\n",
    "                df['Z'][:],\n",
    "                df['X'][:],\n",
    "                df['Y'][:]],\n",
    "                index=['z', 'x', 'y']).T\n",
    "    numtracks = d00.shape[0]\n",
    "    dd = pd.DataFrame([\n",
    "            df['TX'][:]*dZ,\n",
    "            df['TY'][:]*dZ],\n",
    "            index=['x', 'y']).T\n",
    "    dd.insert(loc=0, column='z', value=dZ)\n",
    "    d11 = d00 + dd\n",
    "\n",
    "    C = plt.cm.Blues(0.5)\n",
    "    lc = Line3DCollection(zip(d00.values, d11.values), colors=C, alpha=0.5, lw=2)\n",
    "    numtracks = len(d0[:, 0])\n",
    "    \n",
    "\n",
    "    C = plt.cm.Reds(0.5)\n",
    "    lb = Line3DCollection(zip(d0[:, [2, 0, 1]], d1[:, [2, 0, 1]]), colors=C, alpha=0.9, lw=2)\n",
    "\n",
    "    fig = plt.figure(figsize=(12,8))\n",
    "    ax = fig.gca(projection='3d')\n",
    "    ax.view_init(azim=-103, elev=16)\n",
    "    ax.add_collection3d(lc)\n",
    "    ax.add_collection3d(lb)\n",
    "\n",
    "    ax.set_xlabel(\"z\")\n",
    "    ax.set_ylabel(\"x\")\n",
    "    ax.set_zlabel(\"y\")\n",
    "    ax.set_xlim(d0[:, 2].min(), d0[:, 2].max())\n",
    "    ax.set_ylim(d0[:, 0].min(), d0[:, 0].max())\n",
    "    ax.set_zlim(d0[:, 1].min(), d0[:, 1].max())"
   ]
  },
  {
   "cell_type": "markdown",
   "metadata": {},
   "source": [
    "#### Training samples generators"
   ]
  },
  {
   "cell_type": "code",
   "execution_count": 8,
   "metadata": {
    "collapsed": true
   },
   "outputs": [],
   "source": [
    "def generate_training_sample_signal(data, ip_threshold = 0.4):\n",
    "    event_id = set(data.event_id)\n",
    "    event_id.remove(-999)\n",
    "    \n",
    "    parents = list()\n",
    "    sons = list()\n",
    "    \n",
    "    for id in event_id:        \n",
    "        shower = data[data.event_id == id].values\n",
    "        z_coordinates = list(set(shower[:, 2]))\n",
    "        z_coordinates.sort()\n",
    "\n",
    "        for i in range(len(z_coordinates) - 1):\n",
    "            for track in shower[shower[:, 2] == z_coordinates[i] ,:]:\n",
    "                next_layer = shower[shower[:, 2] == z_coordinates[i + 1] ,:]\n",
    "                if len(next_layer) != 0:\n",
    "                    IP = compute_features(np.repeat(np.array([track]), len(next_layer), 0)[:, :6].astype(float), next_layer[:, :6].astype(float))[:, 2]\n",
    "                    if (IP.min() < ip_threshold):\n",
    "                        parents.append(track)\n",
    "                        sons.append(next_layer[IP.argmin(), :])\n",
    "\n",
    "    sons = np.asarray(sons)\n",
    "    parents = np.asarray(parents)\n",
    "    \n",
    "    signal_part = compute_features(sons[:, :6].astype(float), parents[:, :6].astype(float))\n",
    "    signal_part = np.insert(signal_part, len(signal_part[0, :]), 1, axis = 1)\n",
    "    \n",
    "    return signal_part\n",
    "\n",
    "def generate_training_sample_noise(data, box = 10000, iterations = 40):\n",
    "    background = data[data.event_id == -999].values\n",
    "    noise_sons = list()\n",
    "    noise_parents = list()\n",
    "    \n",
    "    for i in range(iterations):\n",
    "        number = np.random.randint(len(background))\n",
    "        track = background[number]\n",
    "        \n",
    "        next_layer = background[background[:, 2] == track[2] + 1293]\n",
    "        track_cont = compute_track_continuation(track)\n",
    "        \n",
    "        bool_index = (abs(next_layer[:, 0] - track_cont[0]) < box) & (abs(next_layer[:, 1] - track_cont[1]) < box)\n",
    "        next_layer = next_layer[bool_index]\n",
    "        if len(next_layer) != 0:\n",
    "            noise_sons.extend([track] * len(next_layer))\n",
    "            noise_parents.append(next_layer)\n",
    "\n",
    "    noise_sons = np.asarray(noise_sons)\n",
    "    noise_parents = np.concatenate(noise_parents)\n",
    "    \n",
    "    noise_part = compute_features(noise_sons[:, :6].astype(float), noise_parents[:, :6].astype(float))\n",
    "    noise_part = np.insert(noise_part, len(noise_part[0, :]), 0, axis = 1)\n",
    "    \n",
    "    return noise_part"
   ]
  },
  {
   "cell_type": "markdown",
   "metadata": {},
   "source": [
    "### SVM processing algorithm"
   ]
  },
  {
   "cell_type": "code",
   "execution_count": 9,
   "metadata": {
    "collapsed": true
   },
   "outputs": [],
   "source": [
    "def find_similar(track, next_layer, classifier, threshold, box_size):\n",
    "    \n",
    "    track = np.array(track, dtype = float)\n",
    "    indexes = np.arange(len(next_layer))\n",
    "    \n",
    "    track_cont = compute_track_continuation(track)\n",
    "    bool_index = (abs(next_layer[:, 0] - track_cont[0]) < box_size) & (abs(next_layer[:, 1] - track_cont[1]) < box_size)\n",
    "    \n",
    "    next_layer = next_layer[bool_index]\n",
    "    indexes = indexes[bool_index]\n",
    "    \n",
    "    if len(next_layer) == 0:\n",
    "        return np.array([])\n",
    "    dist = classifier.predict_proba(compute_features(np.repeat(np.array([track]), len(next_layer), 0)[:, :6].astype(float), next_layer[:, :6].astype(float)))[:, 1]\n",
    "    result = dist > threshold\n",
    "    \n",
    "    return indexes[result]\n",
    "\n",
    "def clear_layer(to_clear, to_compare, classifier, threshold, box_size):\n",
    "    if (len(to_clear) == 0):\n",
    "        return to_clear\n",
    "    final_result = np.ndarray((len(to_clear,)),dtype=np.object)\n",
    "    for i in xrange(len(to_clear)):\n",
    "        result = find_similar(to_clear[i], to_compare, classifier, threshold, box_size)\n",
    "        final_result[i] = result\n",
    "                            \n",
    "    f = np.vectorize(len)\n",
    "    index = f(final_result) > 0\n",
    "    \n",
    "    to_clear = to_clear[index, :]\n",
    "    if len(to_clear) == 0:\n",
    "        return to_clear\n",
    "    result = np.unique(np.hstack(final_result[index]))\n",
    "    \n",
    "    to_compare = to_compare[result]\n",
    "    return np.concatenate([to_clear, to_compare])\n",
    "\n",
    "def shower_finder(data, classifier, number_of_iterations = 1, threshold = 0.98, box_size = 3000, start_plate = 0):\n",
    "    layers = list(set(data[:, 2]))\n",
    "    layers.sort()\n",
    "    for i in range(start_plate ,len(layers) - 1):\n",
    "        cleared_data = clear_layer(data[data[:, 2] == layers[i]], data[data[:, 2] == layers[i+1]], classifier, threshold, box_size)\n",
    "        data = data[(data[:, 2] != layers[i]) & (data[:, 2] != layers[i+1])]\n",
    "        data = np.concatenate([data, cleared_data])    \n",
    "    return data"
   ]
  },
  {
   "cell_type": "markdown",
   "metadata": {},
   "source": [
    "#### Metrics (Fix it) (Add computation of the curve inside the cone and so on)"
   ]
  },
  {
   "cell_type": "code",
   "execution_count": 10,
   "metadata": {
    "collapsed": true
   },
   "outputs": [],
   "source": [
    "def precision_recall(cleared_data, original_shower_size):\n",
    "    tp = np.sum(cleared_data.signal == 1) + 0.\n",
    "    fp = np.sum(cleared_data.signal == 0)\n",
    "    precision = tp / (tp + fp)\n",
    "    recall = tp / original_shower_size\n",
    "    return [precision, recall]"
   ]
  },
  {
   "cell_type": "markdown",
   "metadata": {},
   "source": [
    "#### Feature computation"
   ]
  },
  {
   "cell_type": "code",
   "execution_count": 11,
   "metadata": {
    "collapsed": true
   },
   "outputs": [],
   "source": [
    "def compute_features(sons, parents):\n",
    "    \n",
    "    distance = np.sqrt(np.sum((parents[:, 0:3] - sons[:, 0:3])**2, axis = 1))\n",
    "    tan_angle = np.tan(np.arccos(1/(np.sqrt(np.sum((sons - parents)[:, 3:5]**2, axis = 1) + 1))))\n",
    "    \n",
    "    track_begin = sons[:, 0:3]\n",
    "\n",
    "    track_end = np.copy(track_begin)\n",
    "    track_end[:, 0] += dZ * sons[:, 3]\n",
    "    track_end[:, 1] += dZ * sons[:, 4]\n",
    "    track_end[:, 2] += dZ\n",
    "    track_diff = track_end - track_begin\n",
    "    angle_z_son = (dZ ** 2)/(np.linalg.norm(track_diff, axis = 1) * dZ)\n",
    "    \n",
    "    \n",
    "    track_diff_par = np.transpose(np.asarray([dZ * parents[:, 3], dZ * parents[:, 4]]))\n",
    "    track_diff_par = np.insert(track_diff_par, 2, dZ, axis = 1)\n",
    "    \n",
    "    \n",
    "    IP_1 = np.linalg.norm(np.cross(parents[:, 0:3] - track_end, parents[:, 0:3] - track_begin), axis = 1)/np.linalg.norm(track_diff, axis = 1)\n",
    "    IP_2 = np.linalg.norm(np.cross(track_end - parents[:, 0:3], track_end - parents[:, 0:3] - track_diff_par), axis = 1)/np.linalg.norm(track_diff_par, axis = 1)\n",
    "\n",
    "    angle_z_parents = (dZ ** 2)/(np.linalg.norm(track_diff_par, axis = 1) * dZ)\n",
    "    return np.transpose(np.asarray([distance/dZ, tan_angle, IP_1/dZ, IP_2/dZ ,angle_z_son, angle_z_parents, sons[:,5], parents[:,5]]))"
   ]
  },
  {
   "cell_type": "markdown",
   "metadata": {},
   "source": [
    "### Data preprocessing"
   ]
  },
  {
   "cell_type": "code",
   "execution_count": 12,
   "metadata": {},
   "outputs": [
    {
     "name": "stdout",
     "output_type": "stream",
     "text": [
      "bg: 27322110 tracks\n"
     ]
    }
   ],
   "source": [
    "pbg = load_bg(step=1)"
   ]
  },
  {
   "cell_type": "code",
   "execution_count": 13,
   "metadata": {},
   "outputs": [
    {
     "name": "stdout",
     "output_type": "stream",
     "text": [
      "('numtracks reduction by cuts: ', [18724, 18678, 17031, 15258, 7845, 7510])\n"
     ]
    }
   ],
   "source": [
    "pmc = load_mc(step=1)"
   ]
  },
  {
   "cell_type": "code",
   "execution_count": 14,
   "metadata": {
    "collapsed": true
   },
   "outputs": [],
   "source": [
    "from sklearn.model_selection import train_test_split"
   ]
  },
  {
   "cell_type": "code",
   "execution_count": 15,
   "metadata": {
    "collapsed": true
   },
   "outputs": [],
   "source": [
    "np.random.seed(42)\n",
    "pbg_train, pbg_test = train_test_split(pbg, test_size = 0.5)\n",
    "pmc_train, pmc_test = train_test_split(pmc, test_size = 0.5)"
   ]
  },
  {
   "cell_type": "code",
   "execution_count": 16,
   "metadata": {
    "collapsed": true
   },
   "outputs": [],
   "source": [
    "ind = pmc_train.sample(frac=0.03).Event_id.values"
   ]
  },
  {
   "cell_type": "code",
   "execution_count": 17,
   "metadata": {},
   "outputs": [
    {
     "name": "stdout",
     "output_type": "stream",
     "text": [
      "('Number of BG basetracks:', 6831)\n",
      "('Number of MC events:', 113)\n"
     ]
    }
   ],
   "source": [
    "tested_data = combine_mc_bg(pmc_train, pbg_train, ind, bg_frac = 0.0005)"
   ]
  },
  {
   "cell_type": "markdown",
   "metadata": {},
   "source": [
    "### Check the value of IP inside 'generate_training_sample_signal' function"
   ]
  },
  {
   "cell_type": "code",
   "execution_count": 18,
   "metadata": {
    "collapsed": true
   },
   "outputs": [],
   "source": [
    "event_id = set(tested_data.event_id)\n",
    "event_id.remove(-999)\n",
    "    \n",
    "parents = list()\n",
    "sons = list()\n",
    "           \n",
    "shower = tested_data[tested_data.event_id == list(event_id)[0]].values\n",
    "\n",
    "z_coordinates = list(set(shower[:, 2]))\n",
    "z_coordinates.sort()\n",
    "\n",
    "for i in range(len(z_coordinates) - 1):\n",
    "    for track in shower[shower[:, 2] == z_coordinates[i] ,:]:\n",
    "        next_layer = shower[shower[:, 2] == z_coordinates[i + 1] ,:]\n",
    "        if len(next_layer) != 0:\n",
    "            IP = compute_features(np.repeat(np.array([track]), len(next_layer), 0)[:, :6].astype(float), next_layer[:, :6].astype(float))[:, 2]\n",
    "            if (IP.min() < 0.4):\n",
    "                parents.append(track)\n",
    "                sons.append(next_layer[IP.argmin(), :])\n",
    "\n",
    "sons = np.asarray(sons)\n",
    "parents = np.asarray(parents)"
   ]
  },
  {
   "cell_type": "code",
   "execution_count": 19,
   "metadata": {
    "collapsed": true
   },
   "outputs": [],
   "source": [
    "plot_pairs(sons, parents, tested_data[tested_data.event_id == list(event_id)[0]])"
   ]
  },
  {
   "cell_type": "markdown",
   "metadata": {},
   "source": [
    "### Train SVM"
   ]
  },
  {
   "cell_type": "code",
   "execution_count": 20,
   "metadata": {
    "collapsed": true
   },
   "outputs": [],
   "source": [
    "ind = pmc_train.sample(frac=0.1).Event_id.values"
   ]
  },
  {
   "cell_type": "code",
   "execution_count": 21,
   "metadata": {},
   "outputs": [
    {
     "name": "stdout",
     "output_type": "stream",
     "text": [
      "('Number of BG basetracks:', 1366106)\n",
      "('Number of MC events:', 376)\n"
     ]
    }
   ],
   "source": [
    "train_data = combine_mc_bg(pmc_train, pbg_train, ind, bg_frac = 0.1)"
   ]
  },
  {
   "cell_type": "code",
   "execution_count": 22,
   "metadata": {
    "collapsed": true
   },
   "outputs": [],
   "source": [
    "np.random.seed(42)\n",
    "signal_train_sample = generate_training_sample_signal(train_data, ip_threshold=0.4)"
   ]
  },
  {
   "cell_type": "code",
   "execution_count": 23,
   "metadata": {
    "collapsed": true
   },
   "outputs": [],
   "source": [
    "np.random.seed(42)\n",
    "noise_train_sample = generate_training_sample_noise(train_data)"
   ]
  },
  {
   "cell_type": "code",
   "execution_count": 24,
   "metadata": {},
   "outputs": [
    {
     "name": "stdout",
     "output_type": "stream",
     "text": [
      "Signal part size: 141071\n",
      "Noise part size: 105906\n"
     ]
    }
   ],
   "source": [
    "print 'Signal part size: ' + str(len(signal_train_sample))\n",
    "print 'Noise part size: ' + str(len(noise_train_sample))"
   ]
  },
  {
   "cell_type": "code",
   "execution_count": 25,
   "metadata": {
    "collapsed": true
   },
   "outputs": [],
   "source": [
    "df = np.random.permutation(np.concatenate([noise_train_sample, signal_train_sample]))"
   ]
  },
  {
   "cell_type": "code",
   "execution_count": 26,
   "metadata": {
    "scrolled": true
   },
   "outputs": [
    {
     "data": {
      "text/plain": [
       "SVC(C=10, cache_size=200, class_weight=None, coef0=0.0,\n",
       "  decision_function_shape=None, degree=3, gamma='auto', kernel='rbf',\n",
       "  max_iter=-1, probability=True, random_state=None, shrinking=True,\n",
       "  tol=0.001, verbose=False)"
      ]
     },
     "execution_count": 26,
     "metadata": {},
     "output_type": "execute_result"
    }
   ],
   "source": [
    "svm = SVC(C = 10, probability = True)\n",
    "svm.fit(df[:50000, :8], df[:50000, 8])"
   ]
  },
  {
   "cell_type": "markdown",
   "metadata": {},
   "source": [
    "### TO DO: SVM cross - validation"
   ]
  },
  {
   "cell_type": "markdown",
   "metadata": {},
   "source": [
    "### Check SVM step starting from a certain plate"
   ]
  },
  {
   "cell_type": "code",
   "execution_count": 27,
   "metadata": {},
   "outputs": [
    {
     "name": "stdout",
     "output_type": "stream",
     "text": [
      "('Number of BG basetracks:', 136611)\n",
      "('Number of MC events:', 188)\n"
     ]
    }
   ],
   "source": [
    "ind = pmc_train.sample(frac=0.05).Event_id.values\n",
    "cv_data = combine_mc_bg(pmc_train, pbg_train, ind, bg_frac = 0.01)"
   ]
  },
  {
   "cell_type": "code",
   "execution_count": 28,
   "metadata": {
    "collapsed": true
   },
   "outputs": [],
   "source": [
    "cleared_data = pd.DataFrame(shower_finder(cv_data.values, svm, threshold = 0.95, start_plate=1), columns=cv_data.columns)"
   ]
  },
  {
   "cell_type": "code",
   "execution_count": 29,
   "metadata": {},
   "outputs": [
    {
     "name": "stdout",
     "output_type": "stream",
     "text": [
      "(1870, 3)\n"
     ]
    }
   ],
   "source": [
    "plot_bg_and_mc(cleared_data[cleared_data.signal == False], cleared_data[cleared_data.signal == True])"
   ]
  },
  {
   "cell_type": "markdown",
   "metadata": {},
   "source": [
    "### Try modification of SVM step without deleting tracks on the next plate"
   ]
  },
  {
   "cell_type": "markdown",
   "metadata": {},
   "source": [
    "#### At first, we need to rewrite some functions."
   ]
  },
  {
   "cell_type": "markdown",
   "metadata": {},
   "source": [
    "## Sequential approach"
   ]
  },
  {
   "cell_type": "code",
   "execution_count": 31,
   "metadata": {
    "collapsed": true
   },
   "outputs": [],
   "source": [
    "def svm_iterative_processing(data, classifier, threshold = 0.98, number_iterations = 1, box_size = 3000):\n",
    "    every_iteration_data = []\n",
    "    for _ in range(number_iterations):\n",
    "        data = shower_finder_iterative(data, classifier, threshold = threshold, box_size=box_size)\n",
    "        every_iteration_data.append(np.copy(data))\n",
    "    return every_iteration_data\n",
    "\n",
    "def find_similar_iterative(track, next_layer, classifier, threshold, box_size):\n",
    "    \n",
    "    track = np.array(track, dtype = float)\n",
    "    indexes = np.arange(len(next_layer))\n",
    "    \n",
    "    track_cont = compute_track_continuation(track)\n",
    "    bool_index = (abs(next_layer[:, 0] - track_cont[0]) < box_size) & (abs(next_layer[:, 1] - track_cont[1]) < box_size)\n",
    "    next_layer = next_layer[bool_index]\n",
    "    indexes = indexes[bool_index]\n",
    "    \n",
    "    if len(next_layer) == 0:\n",
    "        return -1\n",
    "    dist = classifier.predict_proba(compute_features(np.repeat(np.array([track]), len(next_layer), 0)[:, :6].astype(float), next_layer[:, :6].astype(float)))[:, 1]\n",
    "    son = np.argmax(dist)\n",
    "    if dist[son] > threshold:\n",
    "        return indexes[son]\n",
    "    else:\n",
    "        return -1\n",
    "\n",
    "def clear_layer_iterative(to_clear, to_compare, classifier, threshold, box_size):\n",
    "    if (len(to_clear) == 0):\n",
    "        return to_clear\n",
    "    tracks_to_leave = np.apply_along_axis(arr=to_clear, axis=1, func1d=find_similar_iterative, next_layer = to_compare, classifier = classifier, threshold =  threshold, box_size = box_size)\n",
    "    bool_leave = tracks_to_leave >= 0\n",
    "    to_compare[tracks_to_leave[bool_leave], -1] = to_clear[bool_leave, -1] + 1\n",
    "    \n",
    "    return np.concatenate([to_clear[np.logical_or(bool_leave, to_clear[:, -1] > 3)], to_compare])\n",
    "\n",
    "def shower_finder_iterative(data, classifier, number_of_iterations = 1, threshold = 0.98, box_size = 3000, start_plate = 0):\n",
    "    mod_data = np.ones((data.shape[0],data.shape[1] + 1))\n",
    "    mod_data[:,:-1] = data\n",
    "    data = mod_data\n",
    "    \n",
    "    layers = list(set(data[:, 2]))\n",
    "    layers.sort()\n",
    "    for i in range(start_plate ,len(layers) - 1):\n",
    "        cleared_data = clear_layer_iterative(data[data[:, 2] == layers[i]], data[data[:, 2] == layers[i+1]], classifier, threshold, box_size)\n",
    "        data = data[(data[:, 2] != layers[i]) & (data[:, 2] != layers[i+1])]\n",
    "        data = np.concatenate([data, cleared_data])\n",
    "    return data[data[:, 2] != layers[-1]][:, :-1]"
   ]
  },
  {
   "cell_type": "markdown",
   "metadata": {},
   "source": [
    "## Parallel approach"
   ]
  },
  {
   "cell_type": "code",
   "execution_count": 35,
   "metadata": {
    "collapsed": true
   },
   "outputs": [],
   "source": [
    "def shower_finder_iterative_paralel(data, classifier, pool, number_of_iterations = 1, threshold = 0.98, box_size = 3000, start_plate = 0):\n",
    "    \n",
    "    layers = list(set(data[:, 2]))\n",
    "    layers.sort()\n",
    "    \n",
    "    data_list = []\n",
    "    \n",
    "    for i in range(start_plate ,len(layers) - 1):\n",
    "        data_list.append((data[data[:, 2] == layers[i]], data[data[:, 2] == layers[i+1]], classifier, threshold, box_size))\n",
    "\n",
    "    result = pool.map(clear_layer_iterative_paralel, data_list)\n",
    "    return np.concatenate(result)\n",
    "\n",
    "def clear_layer_iterative_paralel(args):\n",
    "    to_clear, to_compare, classifier, threshold, box_size = args\n",
    "    if (len(to_clear) == 0):\n",
    "        return to_clear\n",
    "    tracks_to_leave = np.apply_along_axis(arr=to_clear, axis=1, func1d=find_similar_iterative, next_layer = to_compare, classifier = classifier, threshold =  threshold, box_size = box_size)\n",
    "    bool_leave = tracks_to_leave >= 0\n",
    "    \n",
    "    return to_clear[bool_leave]\n",
    "\n",
    "def svm_iterative_processing_paralel(data, classifier, threshold = 0.98, number_iterations = 1, box_size = 3000):\n",
    "    pool = Pool(processes=16)\n",
    "    every_iteration_data = []\n",
    "    for _ in range(number_iterations):\n",
    "        data = shower_finder_iterative_paralel(data, classifier, pool, threshold = threshold, box_size=box_size)\n",
    "        every_iteration_data.append(np.copy(data))\n",
    "        \n",
    "    pool.close()\n",
    "    pool.join()\n",
    "    \n",
    "    return every_iteration_data"
   ]
  },
  {
   "cell_type": "markdown",
   "metadata": {},
   "source": [
    "## Probabolistic approach"
   ]
  },
  {
   "cell_type": "code",
   "execution_count": 66,
   "metadata": {},
   "outputs": [],
   "source": [
    "def svm_iterative_processing_proba(data, classifier, number_iterations = 1, box_size = 3000):\n",
    "    every_iteration_data = []\n",
    "    for _ in range(number_iterations):\n",
    "        data = shower_finder_iterative_proba(data, classifier, box_size=box_size)\n",
    "        every_iteration_data.append(np.copy(data))\n",
    "    return every_iteration_data\n",
    "\n",
    "def find_similar_iterative_proba(track, next_layer, classifier, box_size):\n",
    "    \n",
    "    track = np.array(track, dtype = float)\n",
    "    indexes = np.arange(len(next_layer))\n",
    "    \n",
    "    track_cont = compute_track_continuation(track)\n",
    "    bool_index = (abs(next_layer[:, 0] - track_cont[0]) < box_size) & (abs(next_layer[:, 1] - track_cont[1]) < box_size)\n",
    "    next_layer = next_layer[bool_index]\n",
    "    indexes = indexes[bool_index]\n",
    "    \n",
    "    if len(next_layer) == 0:\n",
    "        return np.array([-1., 0.])\n",
    "    dist = classifier.predict_proba(compute_features(np.repeat(np.array([track]), len(next_layer), 0)[:, :6].astype(float), next_layer[:, :6].astype(float)))[:, 1]\n",
    "    son = np.argmax(dist)\n",
    "\n",
    "    return np.array([indexes[son], dist[son]])\n",
    "\n",
    "def clear_layer_iterative_proba(to_clear, to_compare, classifier, box_size):\n",
    "    if (len(to_clear) == 0):\n",
    "        return to_clear\n",
    "    \n",
    "    result = np.apply_along_axis(arr=to_clear, axis=1, func1d=find_similar_iterative_proba, next_layer = to_compare, classifier = classifier, box_size = box_size)\n",
    "    indexes, proba = result[:, 0], result[:, 1]\n",
    "    \n",
    "    positive_index = indexes >= 0\n",
    "    zero_proba = to_clear[:, -1] == 0\n",
    "    \n",
    "    to_clear[np.logical_and(positive_index, zero_proba), -1] = 1 - proba[np.logical_and(positive_index, zero_proba)]\n",
    "    to_clear[np.logical_and(positive_index, np.logical_not(zero_proba)), -1] *= 1 - proba[np.logical_and(positive_index, np.logical_not(zero_proba))]\n",
    "    \n",
    "    \n",
    "    to_compare[np.array(indexes[positive_index], dtype = int), -1] = to_clear[positive_index, -1] * (1 - proba[positive_index])\n",
    "    \n",
    "    return np.concatenate([to_clear, to_compare])\n",
    "\n",
    "def shower_finder_iterative_proba(data, classifier, number_of_iterations = 1, box_size = 3000, start_plate = 0):\n",
    "    mod_data = np.zeros((data.shape[0],data.shape[1] + 1))\n",
    "    mod_data[:,:-1] = data\n",
    "    data = mod_data\n",
    "    \n",
    "    layers = list(set(data[:, 2]))\n",
    "    layers.sort()\n",
    "    for i in range(start_plate ,len(layers) - 1):\n",
    "        cleared_data = clear_layer_iterative_proba(data[data[:, 2] == layers[i]], data[data[:, 2] == layers[i+1]], classifier, box_size)\n",
    "        data = data[(data[:, 2] != layers[i]) & (data[:, 2] != layers[i+1])]\n",
    "        data = np.concatenate([data, cleared_data])\n",
    "        \n",
    "    layers.reverse()\n",
    "    for i in range(start_plate ,len(layers) - 1):\n",
    "        cleared_data = clear_layer_reverse_iterative_proba(data[data[:, 2] == layers[i+1]], data[data[:, 2] == layers[i]], classifier, box_size)\n",
    "        data = data[(data[:, 2] != layers[i]) & (data[:, 2] != layers[i+1])]\n",
    "        data = np.concatenate([data, cleared_data])\n",
    "\n",
    "    return data\n",
    "\n",
    "\n",
    "def clear_layer_reverse_iterative_proba(to_clear, to_compare, classifier, box_size):\n",
    "    if (len(to_clear) == 0):\n",
    "        return to_clear\n",
    "    \n",
    "    result = np.apply_along_axis(arr=to_clear, axis=1, func1d=find_similar_iterative_proba, next_layer = to_compare, classifier = classifier, box_size = box_size)\n",
    "    indexes, proba = result[:, 0], result[:, 1]\n",
    "    \n",
    "    positive_index = indexes >= 0\n",
    "    \n",
    "    to_clear[positive_index, -1] = to_compare[np.array(indexes[positive_index], dtype = int), -1]\n",
    "    #to_clear[np.logical_and(positive_index, not zero_proba), -1] *= proba[np.logical_and(positive_index, not zero_proba)]\n",
    "\n",
    "    \n",
    "    return np.concatenate([to_clear, to_compare])"
   ]
  },
  {
   "cell_type": "code",
   "execution_count": 72,
   "metadata": {
    "scrolled": true
   },
   "outputs": [
    {
     "name": "stdout",
     "output_type": "stream",
     "text": [
      "('Number of BG basetracks:', 1366106)\n",
      "('Number of MC events:', 75)\n"
     ]
    }
   ],
   "source": [
    "np.random.seed(1)\n",
    "ind = pmc_test.sample(frac=0.02).Event_id.values\n",
    "cv_data = combine_mc_bg(pmc_test, pbg_test, ind, bg_frac = 0.1)"
   ]
  },
  {
   "cell_type": "markdown",
   "metadata": {},
   "source": [
    "## Paralel"
   ]
  },
  {
   "cell_type": "code",
   "execution_count": 37,
   "metadata": {},
   "outputs": [
    {
     "name": "stdout",
     "output_type": "stream",
     "text": [
      "CPU times: user 1.55 s, sys: 240 ms, total: 1.79 s\n",
      "Wall time: 44.8 s\n"
     ]
    }
   ],
   "source": [
    "%%time\n",
    "cleared_data = svm_iterative_processing_paralel(cv_data.values, svm, threshold = 0.95, number_iterations=5, box_size=100)"
   ]
  },
  {
   "cell_type": "code",
   "execution_count": 38,
   "metadata": {},
   "outputs": [],
   "source": [
    "cleared_data = map(lambda x: pd.DataFrame(x, columns = cv_data.columns), cleared_data)"
   ]
  },
  {
   "cell_type": "code",
   "execution_count": 42,
   "metadata": {},
   "outputs": [
    {
     "name": "stdout",
     "output_type": "stream",
     "text": [
      "(11771, 3)\n"
     ]
    }
   ],
   "source": [
    "plot_bg_and_mc(cleared_data[0][cleared_data[0].signal == False], cleared_data[0][cleared_data[0].signal == True])"
   ]
  },
  {
   "cell_type": "code",
   "execution_count": 43,
   "metadata": {
    "collapsed": true
   },
   "outputs": [],
   "source": [
    "signal = [np.sum(cv_data.signal == True)]\n",
    "noise = [np.sum(cv_data.signal == False)]\n",
    "\n",
    "for data in cleared_data:\n",
    "    signal.append(np.sum(data.signal == True))\n",
    "    noise.append(np.sum(data.signal == False))"
   ]
  },
  {
   "cell_type": "code",
   "execution_count": 44,
   "metadata": {},
   "outputs": [],
   "source": [
    "plt.figure(dpi = 80, figsize=(8,6))\n",
    "sig, = plt.plot(signal, label = 'signal')\n",
    "nois, = plt.plot(noise, label = 'noise')\n",
    "plt.legend(handles = [sig, nois])\n",
    "plt.xlabel('Number of iterations');"
   ]
  },
  {
   "cell_type": "code",
   "execution_count": 45,
   "metadata": {
    "scrolled": true
   },
   "outputs": [
    {
     "name": "stdout",
     "output_type": "stream",
     "text": [
      "Signal dynamic: [22210, 11771, 9018, 7580, 6631, 5935]\n",
      "Noise dynamic: [136611, 231, 26, 18, 14, 12]\n"
     ]
    }
   ],
   "source": [
    "print \"Signal dynamic: \" + str(signal)\n",
    "print \"Noise dynamic: \" + str(noise)"
   ]
  },
  {
   "cell_type": "markdown",
   "metadata": {},
   "source": [
    "## Sequential"
   ]
  },
  {
   "cell_type": "code",
   "execution_count": 73,
   "metadata": {},
   "outputs": [
    {
     "name": "stdout",
     "output_type": "stream",
     "text": [
      "CPU times: user 8min 25s, sys: 9.08 s, total: 8min 34s\n",
      "Wall time: 8min 39s\n"
     ]
    }
   ],
   "source": [
    "%%time\n",
    "cleared_data = svm_iterative_processing(cv_data.values, svm, threshold = 0.95, number_iterations=5, box_size=100)"
   ]
  },
  {
   "cell_type": "code",
   "execution_count": 74,
   "metadata": {},
   "outputs": [
    {
     "name": "stdout",
     "output_type": "stream",
     "text": [
      "Signal dynamic: [43611, 25210, 21055, 19624, 19138, 18624]\n",
      "Noise dynamic: [1366106, 22439, 1258, 731, 708, 685]\n"
     ]
    }
   ],
   "source": [
    "cleared_data = map(lambda x: pd.DataFrame(x, columns = cv_data.columns), cleared_data)\n",
    "signal = [np.sum(cv_data.signal == True)]\n",
    "noise = [np.sum(cv_data.signal == False)]\n",
    "\n",
    "for data in cleared_data:\n",
    "    signal.append(np.sum(data.signal == True))\n",
    "    noise.append(np.sum(data.signal == False))\n",
    "    \n",
    "print \"Signal dynamic: \" + str(signal)\n",
    "print \"Noise dynamic: \" + str(noise)"
   ]
  },
  {
   "cell_type": "markdown",
   "metadata": {},
   "source": [
    "## Proba (be careful! New column in the end)"
   ]
  },
  {
   "cell_type": "code",
   "execution_count": 75,
   "metadata": {},
   "outputs": [
    {
     "name": "stdout",
     "output_type": "stream",
     "text": [
      "CPU times: user 15min 29s, sys: 16.5 s, total: 15min 46s\n",
      "Wall time: 15min 51s\n"
     ]
    }
   ],
   "source": [
    "%%time\n",
    "cleared_data = svm_iterative_processing_proba(cv_data.values, svm,  number_iterations=1, box_size=100)"
   ]
  },
  {
   "cell_type": "code",
   "execution_count": 76,
   "metadata": {},
   "outputs": [],
   "source": [
    "cleared_data = map(lambda x: pd.DataFrame(x, columns = list(cv_data.columns) + ['proba']), cleared_data)"
   ]
  },
  {
   "cell_type": "code",
   "execution_count": 77,
   "metadata": {},
   "outputs": [
    {
     "data": {
      "text/plain": [
       "0.89915520079489264"
      ]
     },
     "execution_count": 77,
     "metadata": {},
     "output_type": "execute_result"
    }
   ],
   "source": [
    "from sklearn.metrics import roc_auc_score\n",
    "\n",
    "proba = np.copy(cleared_data[0].proba)\n",
    "proba[proba > 0] = 1 - proba[proba > 0]\n",
    "roc_auc_score(cleared_data[0].signal, proba)"
   ]
  },
  {
   "cell_type": "code",
   "execution_count": 88,
   "metadata": {},
   "outputs": [
    {
     "data": {
      "text/plain": [
       "26389.0"
      ]
     },
     "execution_count": 88,
     "metadata": {},
     "output_type": "execute_result"
    }
   ],
   "source": [
    "np.sum(cleared_data[0].signal[proba > 0.9999999999999999])"
   ]
  },
  {
   "cell_type": "code",
   "execution_count": 91,
   "metadata": {},
   "outputs": [
    {
     "data": {
      "text/plain": [
       "16097.0"
      ]
     },
     "execution_count": 91,
     "metadata": {},
     "output_type": "execute_result"
    }
   ],
   "source": [
    "cv_data[proba > 0.9999999999999999].signal.count() - np.sum(cleared_data[0].signal[proba > 0.9999999999999999])"
   ]
  },
  {
   "cell_type": "code",
   "execution_count": 92,
   "metadata": {},
   "outputs": [
    {
     "data": {
      "text/plain": [
       "43611.0"
      ]
     },
     "execution_count": 92,
     "metadata": {},
     "output_type": "execute_result"
    }
   ],
   "source": [
    "np.sum(cleared_data[0].signal)"
   ]
  },
  {
   "cell_type": "markdown",
   "metadata": {},
   "source": [
    "#### (1366k - noise, 43k - signal) precision: 0.6 recall: 0.6"
   ]
  },
  {
   "cell_type": "markdown",
   "metadata": {},
   "source": [
    "### Last iteration picture"
   ]
  },
  {
   "cell_type": "code",
   "execution_count": 63,
   "metadata": {},
   "outputs": [
    {
     "ename": "IndexError",
     "evalue": "list index out of range",
     "output_type": "error",
     "traceback": [
      "\u001b[0;31m---------------------------------------------------------------------------\u001b[0m",
      "\u001b[0;31mIndexError\u001b[0m                                Traceback (most recent call last)",
      "\u001b[0;32m<ipython-input-63-393c0da97641>\u001b[0m in \u001b[0;36m<module>\u001b[0;34m()\u001b[0m\n\u001b[0;32m----> 1\u001b[0;31m \u001b[0mplot_bg_and_mc\u001b[0m\u001b[0;34m(\u001b[0m\u001b[0mcleared_data\u001b[0m\u001b[0;34m[\u001b[0m\u001b[0;36m4\u001b[0m\u001b[0;34m]\u001b[0m\u001b[0;34m[\u001b[0m\u001b[0mcleared_data\u001b[0m\u001b[0;34m[\u001b[0m\u001b[0;36m4\u001b[0m\u001b[0;34m]\u001b[0m\u001b[0;34m.\u001b[0m\u001b[0msignal\u001b[0m \u001b[0;34m==\u001b[0m \u001b[0mFalse\u001b[0m\u001b[0;34m]\u001b[0m\u001b[0;34m,\u001b[0m \u001b[0mcleared_data\u001b[0m\u001b[0;34m[\u001b[0m\u001b[0;36m4\u001b[0m\u001b[0;34m]\u001b[0m\u001b[0;34m[\u001b[0m\u001b[0mcleared_data\u001b[0m\u001b[0;34m[\u001b[0m\u001b[0;36m4\u001b[0m\u001b[0;34m]\u001b[0m\u001b[0;34m.\u001b[0m\u001b[0msignal\u001b[0m \u001b[0;34m==\u001b[0m \u001b[0mTrue\u001b[0m\u001b[0;34m]\u001b[0m\u001b[0;34m)\u001b[0m\u001b[0;34m\u001b[0m\u001b[0m\n\u001b[0m",
      "\u001b[0;31mIndexError\u001b[0m: list index out of range"
     ]
    }
   ],
   "source": [
    "plot_bg_and_mc(cleared_data[4][cleared_data[4].signal == False], cleared_data[4][cleared_data[4].signal == True])"
   ]
  },
  {
   "cell_type": "markdown",
   "metadata": {},
   "source": [
    "## TO DO:\n",
    "* Optimize iterative SVM processing (DONE)\n",
    "* Cross val SVM\n",
    "* Test iterative SVM processing\n",
    "    - [ ] Think how I can realize save of last tracks in long sequences (DONE)\n",
    "    - [ ] Cut the box on the next layer according to the direction of the track (DONE)\n",
    "    - [ ] Look how precision and recall depend on the number of iterations (DONE)\n",
    "    - [ ] Optimize threshold\n",
    "* Try next thing:\n",
    "   * Run chain algorithm from the middle plate to the first plate\n",
    "   * Calculate from the data starting points\n",
    "   * Run again in the correct direction from the given plate\n",
    "   * Insert probability returned by SVM to CRF\n",
    "* Think about theorethical motivation for application of markov models to our case\n",
    "\n",
    "\n",
    "## Current state\n",
    "\n",
    "* We have a good algorithm that clears brick from the noise and leaves only signal.\n",
    "* Now we need to split signal into separate showers, estimate origin, estimate energy resolution.\n",
    "* And the main question: how the CRF can be applied :)\n",
    "* Previously we have used CRF to classify signal and noise sequences. Now it is not a big deal because we have achived a good performance with SVM. Maybe we can use it somehow in the analysis of separate showers.\n",
    "\n",
    "## What is the current goal?\n",
    "\n",
    "* We have a brick with incomple signal. We want to separate it into showers, and restore lost tracks to better estimate the energy resolution.\n"
   ]
  },
  {
   "cell_type": "markdown",
   "metadata": {},
   "source": [
    "# Try split the data into separate showers"
   ]
  },
  {
   "cell_type": "code",
   "execution_count": 325,
   "metadata": {},
   "outputs": [],
   "source": [
    "worked_Data = cleared_data[0][proba > 0.9999999999999999]"
   ]
  },
  {
   "cell_type": "code",
   "execution_count": 326,
   "metadata": {
    "scrolled": true
   },
   "outputs": [
    {
     "data": {
      "image/png": "[encoded data removed]",
      "text/plain": [
       "<matplotlib.figure.Figure at 0x7f3dad769690>"
      ]
     },
     "metadata": {},
     "output_type": "display_data"
    }
   ],
   "source": [
    "%matplotlib inline\n",
    "plt.scatter(worked_Data.X, worked_Data.Y ,alpha= 0.3,)\n",
    "plt.show()"
   ]
  },
  {
   "cell_type": "markdown",
   "metadata": {},
   "source": [
    "### Try to use DBSCAN with user metric to cluster the showers"
   ]
  },
  {
   "cell_type": "code",
   "execution_count": 327,
   "metadata": {
    "collapsed": true
   },
   "outputs": [],
   "source": [
    "def metric_track(parent, son):\n",
    "    #if abs(parent[2] - son[2]) > 1500:\n",
    "     #   pass\n",
    "        #return 10000.\n",
    "    if parent[2] > son[2]:\n",
    "        diff = np.append(parent[3:5], 1)\n",
    "        return np.linalg.norm(np.cross(son[:3] - parent[:3] -  diff, son[:3] - parent[:3]))/np.linalg.norm(diff)\n",
    "    else:\n",
    "        diff = np.append(son[3:5], 1)\n",
    "        return np.linalg.norm(np.cross(parent[:3] - son[:3] -  diff, parent[:3] - son[:3]))/np.linalg.norm(diff)"
   ]
  },
  {
   "cell_type": "code",
   "execution_count": 328,
   "metadata": {
    "collapsed": true
   },
   "outputs": [],
   "source": [
    "# look at the distribution of IP between signal tracks."
   ]
  },
  {
   "cell_type": "code",
   "execution_count": 329,
   "metadata": {},
   "outputs": [
    {
     "data": {
      "image/png": "[encoded data removed]",
      "text/plain": [
       "<matplotlib.figure.Figure at 0x7f3ddd9b7950>"
      ]
     },
     "metadata": {},
     "output_type": "display_data"
    }
   ],
   "source": [
    "plt.hist(df[df[:, -1] == 1, 2] * dZ);\n",
    "plt.hist(df[df[:, -1] == 0, 2] * dZ);"
   ]
  },
  {
   "cell_type": "code",
   "execution_count": 330,
   "metadata": {},
   "outputs": [
    {
     "data": {
      "image/png": "[encoded data removed]",
      "text/plain": [
       "<matplotlib.figure.Figure at 0x7f3dad7b2950>"
      ]
     },
     "metadata": {},
     "output_type": "display_data"
    }
   ],
   "source": [
    "plt.hist(df[df[:, -1] == 1, 3] * dZ);\n",
    "plt.hist(df[df[:, -1] == 0, 3] * dZ);"
   ]
  },
  {
   "cell_type": "code",
   "execution_count": 331,
   "metadata": {
    "collapsed": true
   },
   "outputs": [],
   "source": [
    "from sklearn.cluster import DBSCAN"
   ]
  },
  {
   "cell_type": "code",
   "execution_count": 332,
   "metadata": {
    "collapsed": true
   },
   "outputs": [],
   "source": [
    "def plot_multiple_showers(list_of_showers, step = 1, azim = 0, elev = 0):\n",
    "    colors = np.random.permutation(list(matplotlib.colors.cnames))\n",
    "    collection = []\n",
    "    for df, color in zip(list_of_showers, colors):\n",
    "        d0 = pd.DataFrame([\n",
    "                    df['Z'][::step],\n",
    "                    df['X'][::step],\n",
    "                    df['Y'][::step]],\n",
    "                    index=['z', 'x', 'y']).T\n",
    "        numtracks = d0.shape[0]\n",
    "        dd = pd.DataFrame([\n",
    "                df['TX'][::step]*dZ,\n",
    "                df['TY'][::step]*dZ],\n",
    "                index=['x', 'y']).T\n",
    "        dd.insert(loc=0, column='z', value=dZ)\n",
    "        d1 = d0 + dd\n",
    "        if len(list_of_showers) == 1:\n",
    "            color = 'red'\n",
    "        collection.append(Line3DCollection(list(zip(d0.values, d1.values)), colors=color, alpha=0.5, lw=2))\n",
    "\n",
    "\n",
    "    \n",
    "    fig = plt.figure(figsize=(12,8))\n",
    "    ax = fig.gca(projection='3d')\n",
    "    ax.view_init(azim=azim, elev=elev)\n",
    "    \n",
    "    for elem in collection:\n",
    "        ax.add_collection3d(elem)\n",
    "\n",
    "\n",
    "    ax.set_xlabel(\"z\")\n",
    "    ax.set_ylabel(\"x\")\n",
    "    ax.set_zlabel(\"y\")  \n",
    "    ax.set_xlim(0, BRICK_Z)\n",
    "    ax.set_ylim(0, BRICK_X)\n",
    "    ax.set_zlim(0, BRICK_Y)"
   ]
  },
  {
   "cell_type": "code",
   "execution_count": 334,
   "metadata": {
    "collapsed": true
   },
   "outputs": [],
   "source": [
    "id_list = list(set(worked_Data.event_id))[-38:]\n",
    "if -999 not in id_list:\n",
    "    id_list.append(-999)"
   ]
  },
  {
   "cell_type": "code",
   "execution_count": 335,
   "metadata": {
    "collapsed": true
   },
   "outputs": [],
   "source": [
    "test_data = filter(lambda x: x[8] in id_list, list(worked_Data.values))"
   ]
  },
  {
   "cell_type": "code",
   "execution_count": 336,
   "metadata": {
    "collapsed": true
   },
   "outputs": [],
   "source": [
    "test_data = pd.DataFrame(np.array(test_data), columns = worked_Data.columns)"
   ]
  },
  {
   "cell_type": "code",
   "execution_count": 337,
   "metadata": {},
   "outputs": [
    {
     "data": {
      "text/plain": [
       "13145"
      ]
     },
     "execution_count": 337,
     "metadata": {},
     "output_type": "execute_result"
    }
   ],
   "source": [
    "len(test_data)"
   ]
  },
  {
   "cell_type": "code",
   "execution_count": 338,
   "metadata": {
    "collapsed": true
   },
   "outputs": [],
   "source": [
    "# works good! mean over ip can be used\n",
    "def metric_track(parent, son):\n",
    "    if abs(parent[2] - son[2]) > 1500:\n",
    "        return 10000.\n",
    "    if parent[2] < son[2]:\n",
    "        diff = np.append(parent[3:5], 1)\n",
    "        return np.linalg.norm(np.cross(son[:3] - parent[:3] -  diff, son[:3] - parent[:3]))/np.linalg.norm(diff)\n",
    "    else:\n",
    "        diff = np.append(son[3:5], 1)\n",
    "        return np.linalg.norm(np.cross(parent[:3] - son[:3] -  diff, parent[:3] - son[:3]))/np.linalg.norm(diff)"
   ]
  },
  {
   "cell_type": "code",
   "execution_count": null,
   "metadata": {},
   "outputs": [],
   "source": [
    "%%time\n",
    "clst = DBSCAN(eps=100, metric=metric_track, n_jobs = -1, min_samples=2) #eps = 100 works well\n",
    "values = clst.fit_predict(test_data.values[:, :5])"
   ]
  },
  {
   "cell_type": "code",
   "execution_count": null,
   "metadata": {
    "collapsed": true
   },
   "outputs": [],
   "source": [
    "clustered_showers = []\n",
    "for i in set(values):\n",
    "    clustered_showers.append(test_data[values == i])"
   ]
  },
  {
   "cell_type": "code",
   "execution_count": 92,
   "metadata": {},
   "outputs": [
    {
     "data": {
      "image/png": "[encoded data removed]",
      "text/plain": [
       "<matplotlib.figure.Figure at 0x7effa512dbd0>"
      ]
     },
     "metadata": {},
     "output_type": "display_data"
    }
   ],
   "source": [
    "%matplotlib inline\n",
    "plot_multiple_showers(clustered_showers, azim=1, elev=10)"
   ]
  },
  {
   "cell_type": "code",
   "execution_count": 93,
   "metadata": {
    "collapsed": true
   },
   "outputs": [],
   "source": [
    "values += 1\n",
    "freq = np.bincount(values)\n",
    "k_th_value = np.sort(freq[1:])[-50] #bad thing here. In the real-world we don't know the number of showers."
   ]
  },
  {
   "cell_type": "code",
   "execution_count": 94,
   "metadata": {
    "collapsed": true
   },
   "outputs": [],
   "source": [
    "cleared_test_data = test_data[np.logical_and(values != 0, freq[values] >= k_th_value)]\n",
    "cleared_values = values[np.logical_and(values != 0, freq[values] >= k_th_value)]"
   ]
  },
  {
   "cell_type": "markdown",
   "metadata": {},
   "source": [
    "## Colors of the showers are chosen randomly. Colours could look similar. Maybe you want to try few times."
   ]
  },
  {
   "cell_type": "code",
   "execution_count": 95,
   "metadata": {},
   "outputs": [
    {
     "data": {
      "image/png": "[encoded data removed]",
      "text/plain": [
       "<matplotlib.figure.Figure at 0x7effa5451410>"
      ]
     },
     "metadata": {},
     "output_type": "display_data"
    }
   ],
   "source": [
    "clustered_showers = []\n",
    "for i in set(cleared_values):\n",
    "    clustered_showers.append(cleared_data[cleared_values == i])\n",
    "plot_multiple_showers(clustered_showers, azim=1, elev=10)"
   ]
  },
  {
   "cell_type": "code",
   "execution_count": 96,
   "metadata": {},
   "outputs": [
    {
     "data": {
      "text/plain": [
       "52"
      ]
     },
     "execution_count": 96,
     "metadata": {},
     "output_type": "execute_result"
    }
   ],
   "source": [
    "len(clustered_showers)"
   ]
  },
  {
   "cell_type": "markdown",
   "metadata": {},
   "source": [
    "# Now we can understand how good we can predict the origins of the shower.\n",
    "## We will look at the origins of the original and reconstructed showers."
   ]
  },
  {
   "cell_type": "code",
   "execution_count": 97,
   "metadata": {
    "collapsed": true
   },
   "outputs": [],
   "source": [
    "recon_origins = []\n",
    "for i in range(len(clustered_showers)):\n",
    "    recon_origins.append(clustered_showers[i].values[np.argmin(clustered_showers[i].Z.values)])"
   ]
  },
  {
   "cell_type": "code",
   "execution_count": 98,
   "metadata": {},
   "outputs": [
    {
     "name": "stdout",
     "output_type": "stream",
     "text": [
      "0.0\n",
      "0.0\n",
      "0.0\n",
      "0.0\n",
      "0.0\n",
      "0.0\n",
      "0.0\n",
      "0.0\n",
      "0.0\n",
      "0.0\n",
      "0.0\n",
      "0.0\n",
      "0.0\n",
      "0.0\n",
      "0.0\n",
      "0.0\n",
      "0.0\n",
      "0.0\n",
      "28472.4808007\n",
      "0.0\n",
      "0.0\n",
      "33862.8190338\n",
      "8625.22304459\n",
      "0.0\n",
      "0.0\n",
      "0.0\n",
      "0.0\n",
      "23295.3047283\n",
      "29167.9882034\n",
      "0.0\n",
      "0.0\n",
      "0.0\n",
      "0.0\n",
      "27411.68912\n",
      "29788.0405769\n",
      "0.0\n",
      "0.0\n",
      "0.0\n",
      "12932.787273\n",
      "53014.125222\n",
      "29740.3527408\n",
      "6509.42197066\n",
      "18165.0359722\n",
      "0.0\n",
      "0.0\n",
      "0.0\n",
      "20828.1378185\n",
      "24928.762246\n",
      "28792.3187914\n",
      "20750.856392\n",
      "0.0\n",
      "43967.7476136\n"
     ]
    }
   ],
   "source": [
    "real_origins = []\n",
    "for i in range(len(recon_origins)):\n",
    "    shower = cv_data[cv_data.event_id == recon_origins[i][-1]].values\n",
    "    print np.linalg.norm(shower[np.argmin(shower[:, 2])][:3] - recon_origins[i][:3])"
   ]
  },
  {
   "cell_type": "markdown",
   "metadata": {},
   "source": [
    "#### 0 indicates that origin was predicted correctly."
   ]
  },
  {
   "cell_type": "markdown",
   "metadata": {},
   "source": [
    "## Now, as we already can detect some parts of the shower, we need to find lost tracks using partial inforamtion about shower."
   ]
  },
  {
   "cell_type": "code",
   "execution_count": 99,
   "metadata": {
    "collapsed": true
   },
   "outputs": [],
   "source": [
    "def calculate_shower_loss(list_of_showers, cleared_tracks):\n",
    "    loss = 0\n",
    "    for shower in list_of_showers:\n",
    "        dominating_id = shower.event_id.value_counts().argmax()\n",
    "        dominating_id_counts = (shower.event_id == dominating_id).sum()\n",
    "        hits_rate =   float((dominating_id_counts - (shower.shape[0] - dominating_id_counts)))/\\\n",
    "                      float((cleared_tracks.event_id == dominating_id).sum())\n",
    "            \n",
    "        loss += hits_rate\n",
    "    return loss / len(list_of_showers)"
   ]
  },
  {
   "cell_type": "code",
   "execution_count": 100,
   "metadata": {},
   "outputs": [
    {
     "data": {
      "text/plain": [
       "0.5320887785168803"
      ]
     },
     "execution_count": 100,
     "metadata": {},
     "output_type": "execute_result"
    }
   ],
   "source": [
    "calculate_shower_loss(clustered_showers, test_data)"
   ]
  },
  {
   "cell_type": "markdown",
   "metadata": {},
   "source": [
    "## Now we can analyze shower by shower using for example Hosseini algorithm."
   ]
  },
  {
   "cell_type": "code",
   "execution_count": null,
   "metadata": {
    "collapsed": true
   },
   "outputs": [],
   "source": []
  }
 ],
 "metadata": {
  "anaconda-cloud": {},
  "kernelspec": {
   "display_name": "Python 2",
   "language": "python",
   "name": "python2"
  },
  "language_info": {
   "codemirror_mode": {
    "name": "ipython",
    "version": 2
   },
   "file_extension": ".py",
   "mimetype": "text/x-python",
   "name": "python",
   "nbconvert_exporter": "python",
   "pygments_lexer": "ipython2",
   "version": "2.7.13"
  },
  "notify_time": "10"
 },
 "nbformat": 4,
 "nbformat_minor": 1
}
