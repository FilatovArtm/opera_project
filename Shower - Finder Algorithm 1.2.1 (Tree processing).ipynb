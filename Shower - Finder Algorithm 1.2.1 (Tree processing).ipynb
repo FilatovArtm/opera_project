{
 "cells": [
  {
   "cell_type": "code",
   "execution_count": 1,
   "metadata": {
    "collapsed": false
   },
   "outputs": [],
   "source": [
    "%run nbloader.py\n",
    "import seaborn\n",
    "from mpl_toolkits.mplot3d import Axes3D\n",
    "from mpl_toolkits.mplot3d.art3d import Line3DCollection\n",
    "from matplotlib import pylab as plt\n",
    "import root_numpy\n",
    "import pandas as pd\n",
    "import math\n",
    "from sklearn.cluster import DBSCAN\n",
    "\n",
    "from sklearn.svm import SVC\n",
    "from sklearn.ensemble import GradientBoostingClassifier\n",
    "%load_ext Cython\n",
    "\n",
    "\n",
    "BRICK_X = 124000\n",
    "BRICK_Y = 99000\n",
    "BRICK_Z = 75000\n",
    "SAFE_M = 10000\n"
   ]
  },
  {
   "cell_type": "code",
   "execution_count": 2,
   "metadata": {
    "collapsed": false
   },
   "outputs": [
    {
     "name": "stdout",
     "output_type": "stream",
     "text": [
      "importing notebook from read_opera_bg.ipynb\n",
      "bg: 2767 tracks\n",
      "len(slopes): 2767\n"
     ]
    }
   ],
   "source": [
    "from read_opera_bg import plot_bg;"
   ]
  },
  {
   "cell_type": "code",
   "execution_count": 3,
   "metadata": {
    "collapsed": false
   },
   "outputs": [
    {
     "name": "stdout",
     "output_type": "stream",
     "text": [
      "importing notebook from read_opera_mc.ipynb\n",
      "Warning: Cannot change to a different GUI toolkit: qt. Using osx instead.\n",
      "numtracks reduction by cuts:  [188, 186, 109, 50, 19, 19]\n",
      "bg: 27322110 tracks\n",
      "numtracks reduction by cuts:  [18724, 18678, 11058, 5389, 2799, 2684]\n"
     ]
    }
   ],
   "source": [
    "from sklearn.svm import SVC\n",
    "import pandas as pd\n",
    "\n",
    "from read_opera_bg import load_bg;\n",
    "from read_opera_mc import load_mc;\n",
    "pbg = load_bg(step=1);\n",
    "pmc = load_mc(step=1);"
   ]
  },
  {
   "cell_type": "code",
   "execution_count": 81,
   "metadata": {
    "collapsed": true
   },
   "outputs": [],
   "source": [
    "def centralize_shower(shower):\n",
    "    x_diff = shower['ele_x'] - 50000\n",
    "    y_diff = shower['ele_y'] - 40000\n",
    "    shower.loc['BT_X'] = shower.loc['BT_X'] - x_diff\n",
    "    shower.loc['BT_Y'] = shower.loc['BT_Y'] - y_diff\n",
    "    return shower\n",
    "\n",
    "\n",
    "def generate_training_sample(pmc, pbg):\n",
    "    z_coordinates = list(set(pbg['s.eZ']))\n",
    "    z_coordinates.sort()\n",
    "    def f(x): return x > 60000\n",
    "    z_coordinates = filter(f, z_coordinates)\n",
    "    \n",
    "    data_to_clear = pbg[pbg['s.eZ'].isin(z_coordinates)]\n",
    "    data_to_clear = data_to_clear.apply(np.random.permutation)\n",
    "    data_to_clear['signal'] = 0\n",
    "    data_to_clear = data_to_clear[:500000]\n",
    "    \n",
    "    \n",
    "    parents = list()\n",
    "    sons = list()\n",
    "\n",
    "    for i in range(20, 1000):\n",
    "        my_shower = pmc.iloc[i]\n",
    "        shower_frame = pd.DataFrame([\n",
    "            my_shower['BT_X'],\n",
    "            my_shower['BT_Y'],\n",
    "            my_shower['BT_Z'] - my_shower['BT_Z'] % 1293,\n",
    "            my_shower['BT_SX'],\n",
    "            my_shower['BT_SY']],\n",
    "            index=['s.eX', 's.eY', 's.eZ', 's.eTX', 's.eTY']).T\n",
    "        shower_frame['signal'] = 1\n",
    "        shower_frame['s.eChi2'] = 0\n",
    "        shower_frame = shower_frame[shower_frame['s.eZ'].isin(z_coordinates)]\n",
    "\n",
    "        numpy_frame = np.asarray(shower_frame)\n",
    "\n",
    "        for i in range(len(z_coordinates)):\n",
    "            for track in numpy_frame[numpy_frame[:, 2] == z_coordinates[i] ,:]:\n",
    "                next_layer = numpy_frame[numpy_frame[:, 2] == z_coordinates[i + 1] ,:]\n",
    "                if (len(next_layer) != 0):\n",
    "                    IP = compute_metric_distance(track, next_layer, classifier = False, IP_mode=True)\n",
    "                    if (IP.min() < 0.001):\n",
    "                        parents.append(track)\n",
    "                        sons.append(next_layer[IP.argmin(), :])\n",
    "\n",
    "    sons = np.asarray(sons)\n",
    "    parents = np.asarray(parents)\n",
    "\n",
    "    noise_sons = list()\n",
    "    noise_parents = list()\n",
    "    for i in range(40):\n",
    "        number = np.random.randint(len(data_to_clear))\n",
    "        track = data_to_clear.iloc[number, :]\n",
    "        track = np.asarray(track)\n",
    "        layer = data_to_clear[data_to_clear['s.eZ'] == track[2] + 1293]\n",
    "        next_layer = np.asarray(layer)\n",
    "        bool_index = (abs(next_layer[:, 0] - track[0]) < 10000) & (abs(next_layer[:, 1] - track[1]) < 10000)\n",
    "        next_layer = next_layer[bool_index]\n",
    "        noise_sons.extend([track] * len(next_layer))\n",
    "\n",
    "        noise_parents.append(next_layer)\n",
    "\n",
    "    noise_sons = np.asarray(noise_sons)\n",
    "    noise_parents = np.concatenate(noise_parents)\n",
    "    \n",
    "    signal_part = compute_features(sons, parents)\n",
    "    noise_part = compute_features(noise_sons, noise_parents)\n",
    "    \n",
    "    signal_part = np.insert(signal_part, len(signal_part[0, :]),1,axis = 1)\n",
    "    noise_part = np.insert(noise_part, len(noise_part[0, :]), 0,axis = 1)\n",
    "    \n",
    "    df = np.concatenate([signal_part, noise_part], axis = 0)\n",
    "    return df\n",
    "\n",
    "def prepare_for_testing(pmc, data_to_clear, i = 15):\n",
    "    my_shower = pmc.iloc[15]\n",
    "    my_shower = centralize_shower(my_shower.copy())\n",
    "    shower_frame = pd.DataFrame([\n",
    "                    my_shower['BT_X'],\n",
    "                    my_shower['BT_Y'],\n",
    "                    my_shower['BT_Z'] - my_shower['BT_Z'] % 1293,\n",
    "                    my_shower['BT_SX'],\n",
    "                    my_shower['BT_SY']],\n",
    "                    index=['s.eX', 's.eY', 's.eZ', 's.eTX', 's.eTY']).T\n",
    "    shower_frame['signal'] = 1\n",
    "    shower_frame['s.eChi2'] = 0\n",
    "\n",
    "    shower_frame = shower_frame[shower_frame['s.eZ'].isin(z_coordinates)]\n",
    "    index=['s.eX', 's.eY', 's.eZ', 's.eTX', 's.eTY', 'signal']\n",
    "    testing_data = pd.concat([shower_frame, data_to_clear])\n",
    "    testing_data = testing_data[index]\n",
    "    testing_data['number_of_ancestors'] = 0\n",
    "    testing_data['parent_index'] = -1\n",
    "    columns = testing_data.columns\n",
    "    testing_data_1 = np.asarray(testing_data)\n",
    "    \n",
    "    return testing_data_1\n",
    "\n",
    "def test_estimator(clf, test_data, thres = 0.9, number_of_iterations = 1):\n",
    "    columns = ['s.eX', 's.eY', 's.eZ', 's.eTX', 's.eTY', 'signal', 'number_of_ancestors', 'parent_index']\n",
    "    cleared_data = shower_finder(test_data, number_of_iterations = 1, classifier = clf, box_size = 1000, threshold = thres)\n",
    "    cleared_data = pd.DataFrame(cleared_data,columns = columns)\n",
    "    \n",
    "    return cleared_data\n",
    "\n",
    "def precision_recall(cleared_data, original_shower_size):\n",
    "    tp = np.sum(cleared_data.signal == 1) + 0.\n",
    "    fp = np.sum(cleared_data.signal == 0)\n",
    "    precision = tp / (tp + fp)\n",
    "    recall = tp / original_shower_size\n",
    "    return [precision, recall]"
   ]
  },
  {
   "cell_type": "code",
   "execution_count": 5,
   "metadata": {
    "collapsed": false
   },
   "outputs": [],
   "source": [
    "%%cython\n",
    "import numpy as np\n",
    "dZ = 205\n",
    "\n",
    "\n",
    "def compute_features(sons, parents):\n",
    "    distance = np.sqrt(np.sum((parents - sons)[:, 0:3]**2, axis = 1))\n",
    "    tan_angle = np.tan(np.arccos(1/(np.sqrt(np.sum((sons - parents)[:, 3:5]**2, axis = 1) + 1))))\n",
    "\n",
    "    angle_z_son = tan_angle\n",
    "    if (len(sons.shape) == 1):\n",
    "        track_begin = sons[0:3]\n",
    "        track_end = np.copy(track_begin)\n",
    "        track_end[0] += dZ * sons[3]\n",
    "        track_end[1] += dZ * sons[4]\n",
    "        track_end[2] += dZ\n",
    "        track_diff = track_end - track_begin\n",
    "        angle_z_son = (dZ ** 2)/(np.linalg.norm(track_diff) * dZ)\n",
    "        angle_z_son = np.asarray([angle_z_son]*len(parents))\n",
    "    else:\n",
    "        track_begin = sons[:, 0:3]\n",
    "\n",
    "        track_end = np.copy(track_begin)\n",
    "        track_end[:, 0] += dZ * sons[:, 3]\n",
    "        track_end[:, 1] += dZ * sons[:, 4]\n",
    "        track_end[:, 2] += dZ\n",
    "        track_diff = track_end - track_begin\n",
    "        angle_z_son = (dZ ** 2)/(np.linalg.norm(track_diff, axis = 1) * dZ)\n",
    "    \n",
    "    \n",
    "    track_diff_par = np.transpose(np.asarray([dZ * parents[:, 3], dZ * parents[:, 4]]))\n",
    "    track_diff_par = np.insert(track_diff_par, 2, dZ, axis = 1)\n",
    "    \n",
    "    \n",
    "    IP_1 = np.linalg.norm(np.cross(parents[:, 0:3] - track_end, parents[:, 0:3] - track_begin), axis = 1)/np.linalg.norm(track_diff)\n",
    "    IP_2 = np.linalg.norm(np.cross(track_end - parents[:, 0:3], track_end - parents[:, 0:3] - track_diff_par), axis = 1)/np.linalg.norm(track_diff_par)\n",
    "\n",
    "    angle_z_parents = (dZ ** 2)/(np.linalg.norm(track_diff_par, axis = 1) * dZ)\n",
    "    return np.transpose(np.asarray([distance/dZ, tan_angle, IP_1/dZ, IP_2/dZ ,angle_z_son, angle_z_parents]))\n",
    "\n",
    "\n",
    "def compute_metric_distance(track, next_layer, classifier, IP_mode = False):\n",
    "    if (len(next_layer) == 0):\n",
    "        return np.asarray([0])\n",
    "    \n",
    "    X = compute_features(track, next_layer)\n",
    "    if IP_mode == True:\n",
    "        return (X[:, 2]/30)**2\n",
    "\n",
    "    return classifier.predict_proba(X)[:, 1]\n",
    "\n",
    "def find_similar(track, next_layer, classifier, threshold, box_size):\n",
    "    \n",
    "    track = np.array(track, dtype = float)\n",
    "    indexes = np.arange(len(next_layer))\n",
    "    \n",
    "    bool_index = (abs(next_layer[:, 0] - track[0]) < box_size) & (abs(next_layer[:, 1] - track[1]) < box_size)\n",
    "    next_layer = next_layer[bool_index]\n",
    "    indexes = indexes[bool_index]\n",
    "    \n",
    "    dist = compute_metric_distance(track, next_layer, classifier)\n",
    "    result = dist > threshold\n",
    "    return indexes[result]\n",
    "\n",
    "\n",
    "\n",
    "\n",
    "def clear_layer(to_clear, to_compare, classifier, threshold, box_size):\n",
    "    if (len(to_clear) == 0):\n",
    "        return to_clear\n",
    "    final_result = np.ndarray((len(to_clear,)),dtype=np.object)\n",
    "    for i in xrange(len(to_clear)):\n",
    "        result = find_similar(to_clear[i], to_compare, classifier, threshold, box_size)\n",
    "        final_result[i] = result\n",
    "                            \n",
    "    f = np.vectorize(len)\n",
    "    bool_index = f(final_result)\n",
    "    index = bool_index > 0\n",
    "    \n",
    "    to_clear = to_clear[index, :]\n",
    "    if len(to_clear) == 0:\n",
    "        return to_clear\n",
    "    result = np.unique(np.hstack(final_result[index]))\n",
    "    \n",
    "    to_compare = to_compare[result]\n",
    "\n",
    "    \n",
    "    return np.concatenate([to_clear, to_compare])\n",
    "\n",
    "def shower_finder(data, classifier, number_of_iterations = 1, threshold = 0.98, box_size = 3000):\n",
    "    layers = list(set(data[:, 2]))\n",
    "    layers.sort()\n",
    "    for n in range(number_of_iterations):\n",
    "        for i in range(len(layers) - 1):\n",
    "            cleared_data = clear_layer(data[data[:, 2] == layers[i]], data[data[:, 2] == layers[i+1]], classifier, threshold, box_size)\n",
    "            data = data[(data[:, 2] != layers[i]) & (data[:, 2] != layers[i+1])]\n",
    "            data = np.concatenate([data, cleared_data])\n",
    "    return data\n",
    "\n"
   ]
  },
  {
   "cell_type": "code",
   "execution_count": 12,
   "metadata": {
    "collapsed": false
   },
   "outputs": [],
   "source": [
    "np.random.seed(42)\n",
    "df = generate_training_sample(pmc, pbg)\n",
    "np.random.shuffle(df)"
   ]
  },
  {
   "cell_type": "code",
   "execution_count": 13,
   "metadata": {
    "collapsed": false
   },
   "outputs": [
    {
     "data": {
      "text/plain": [
       "SVC(C=1, cache_size=200, class_weight=None, coef0=0.0,\n",
       "  decision_function_shape=None, degree=3, gamma='auto', kernel='rbf',\n",
       "  max_iter=-1, probability=True, random_state=None, shrinking=True,\n",
       "  tol=0.001, verbose=False)"
      ]
     },
     "execution_count": 13,
     "metadata": {},
     "output_type": "execute_result"
    }
   ],
   "source": [
    "svm = SVC(C = 1, probability = True)\n",
    "svm.fit(df[:20000, :6], df[:20000, 6])"
   ]
  },
  {
   "cell_type": "code",
   "execution_count": 13,
   "metadata": {
    "collapsed": false
   },
   "outputs": [],
   "source": [
    "#from sklearn.externals import joblib\n",
    "#joblib.dump(svm, 'svm/svm_5_5.pkl');"
   ]
  },
  {
   "cell_type": "code",
   "execution_count": 9,
   "metadata": {
    "collapsed": false
   },
   "outputs": [],
   "source": [
    "z_coordinates = list(set(pbg['s.eZ']))\n",
    "z_coordinates.sort()\n",
    "def f(x): return x > 60000\n",
    "z_coordinates = filter(f, z_coordinates)\n",
    "\n",
    "data_to_clear = pbg[pbg['s.eZ'].isin(z_coordinates)]\n",
    "data_to_clear = data_to_clear.apply(np.random.permutation)\n",
    "data_to_clear['signal'] = 0\n",
    "data_to_clear = data_to_clear[500000:600000]"
   ]
  },
  {
   "cell_type": "markdown",
   "metadata": {},
   "source": [
    "# Precision / Recall graph"
   ]
  },
  {
   "cell_type": "code",
   "execution_count": 82,
   "metadata": {
    "collapsed": false
   },
   "outputs": [
    {
     "name": "stderr",
     "output_type": "stream",
     "text": [
      "/Applications/anaconda/lib/python2.7/site-packages/ipykernel/__main__.py:103: VisibleDeprecationWarning: boolean index did not match indexed array along dimension 0; dimension is 0 but corresponding boolean dimension is 1\n"
     ]
    },
    {
     "name": "stdout",
     "output_type": "stream",
     "text": [
      "CPU times: user 1min 16s, sys: 810 ms, total: 1min 17s\n",
      "Wall time: 1min 18s\n"
     ]
    }
   ],
   "source": [
    "%%time\n",
    "precision = []\n",
    "recall = []\n",
    "for thres in np.linspace(0.7, 0.99, num=10):\n",
    "    test_data = prepare_for_testing(pmc, data_to_clear, i = 15)\n",
    "    cleared_data = test_estimator(svm, test_data, thres=thres)\n",
    "    point = precision_recall(cleared_data, sum(test_data[:, 5] == 1))\n",
    "    precision.append(point[0])\n",
    "    recall.append(point[1])\n"
   ]
  },
  {
   "cell_type": "code",
   "execution_count": 84,
   "metadata": {
    "collapsed": false,
    "scrolled": true
   },
   "outputs": [
    {
     "data": {
      "image/png": "[encoded data removed]",
      "text/plain": [
       "<matplotlib.figure.Figure at 0x11e2dc3d0>"
      ]
     },
     "metadata": {},
     "output_type": "display_data"
    }
   ],
   "source": [
    "%matplotlib inline\n",
    "plt.plot(recall, precision)\n",
    "plt.xlabel(\"Recall\")\n",
    "plt.ylabel(\"Precision\")\n",
    "plt.show();"
   ]
  },
  {
   "cell_type": "code",
   "execution_count": 88,
   "metadata": {
    "collapsed": true
   },
   "outputs": [],
   "source": [
    "%matplotlib osx"
   ]
  },
  {
   "cell_type": "code",
   "execution_count": 89,
   "metadata": {
    "collapsed": false
   },
   "outputs": [
    {
     "name": "stdout",
     "output_type": "stream",
     "text": [
      "len(slopes): 56\n"
     ]
    }
   ],
   "source": [
    "plot_bg(cleared_data)"
   ]
  },
  {
   "cell_type": "markdown",
   "metadata": {},
   "source": [
    "Сформируем последовательности и попробуем применить вероятностные модели на графах."
   ]
  },
  {
   "cell_type": "code",
   "execution_count": 52,
   "metadata": {
    "collapsed": true
   },
   "outputs": [],
   "source": [
    "data_to_clear = pbg[pbg['s.eZ'].isin(z_coordinates)]\n",
    "data_to_clear = data_to_clear.apply(np.random.permutation)\n",
    "data_to_clear['signal'] = 0\n",
    "data_to_clear = data_to_clear[500000:1000000]"
   ]
  },
  {
   "cell_type": "code",
   "execution_count": 54,
   "metadata": {
    "collapsed": false
   },
   "outputs": [
    {
     "name": "stdout",
     "output_type": "stream",
     "text": [
      "Original shower size: 314\n",
      "Cleared shower size: 80\n",
      "Uncleared noise: 16451\n"
     ]
    }
   ],
   "source": [
    "test_data = prepare_for_testing(pmc, data_to_clear, i = 15)\n",
    "cleared_data = test_estimator(svm, test_data, thres=0.98)\n",
    "print \"Original shower size: \" + str(len(shower_frame))\n",
    "print \"Cleared shower size: \" + str(sum(cleared_data.signal == 1))\n",
    "print \"Uncleared noise: \" + str(sum(cleared_data.signal == 0))"
   ]
  },
  {
   "cell_type": "code",
   "execution_count": 109,
   "metadata": {
    "collapsed": false
   },
   "outputs": [
    {
     "name": "stdout",
     "output_type": "stream",
     "text": [
      "len(slopes): 16531\n"
     ]
    }
   ],
   "source": [
    "plot_bg(cleared_data)"
   ]
  },
  {
   "cell_type": "code",
   "execution_count": 90,
   "metadata": {
    "collapsed": true
   },
   "outputs": [],
   "source": [
    "cleared_data = pd.read_csv(\"cleared_data_500000\")"
   ]
  },
  {
   "cell_type": "code",
   "execution_count": 91,
   "metadata": {
    "collapsed": true
   },
   "outputs": [],
   "source": [
    "def find_similar_old(track, next_layer, classifier, threshold, box_size):\n",
    "    \n",
    "    track = np.array(track, dtype = float)\n",
    "    indexes = np.arange(len(next_layer))\n",
    "    \n",
    "    bool_index = (abs(next_layer[:, 0] - track[0]) < box_size) & (abs(next_layer[:, 1] - track[1]) < box_size)\n",
    "    next_layer = next_layer[bool_index]\n",
    "    indexes = indexes[bool_index]\n",
    "    \n",
    "    dist = compute_metric_distance(track, next_layer, classifier)\n",
    "    result = dist.argmax()\n",
    "    if dist[result] > threshold:\n",
    "        return indexes[result]\n",
    "    return -1\n",
    "\n",
    "def produce_sequences(cleared_data, z_coordinates, classifier):\n",
    "    result_data = cleared_data[cleared_data[:,2] == z_coordinates[0]]\n",
    "    result_data = result_data.reshape((len(result_data),1,len(result_data[0, :])))\n",
    "    \n",
    "    for i in range(len(z_coordinates) - 1):\n",
    "        next_layer = cleared_data[cleared_data[:,2] == z_coordinates[i + 1]]\n",
    "        additional = -np.ones((len(result_data),1,len(result_data[0,0, :])))\n",
    "        \n",
    "        result_data = np.concatenate([result_data, additional], axis = 1)\n",
    "        result = np.apply_along_axis(find_similar_old, 1, result_data[:,i,:], next_layer,  classifier, 0.95, 1000)\n",
    "        result_data[result != -1, i + 1, :] = next_layer[result[result != -1]]\n",
    "    \n",
    "    return result_data\n",
    "\n",
    "def visualize_projection(sequences, length_array):\n",
    "    means_coordinates = np.zeros((len(sequences), 2))\n",
    "    \n",
    "    for i in range(len(sequences)):\n",
    "        means_coordinates[i, 0] = np.mean(sequences[i,:length_array[0],0])\n",
    "        means_coordinates[i, 1] = np.mean(sequences[i,:length_array[0],1])\n",
    "        \n",
    "    colors = np.array([x for x in 'bgrcmykbgrcmykbgrcmykbgrcmyk'])\n",
    "    colors = np.hstack([colors] * 20)\n",
    "        \n",
    "    df = np.concatenate([means_coordinates, length_array.reshape((len(length_array), 1))], axis = 1)\n",
    "    df_subset = df[df[:, 2] > 2]\n",
    "        \n",
    "    clustr = DBSCAN(eps=1300)\n",
    "    clustr.fit(df_subset[:, :2])\n",
    "        \n",
    "    y_pred = clustr.fit_predict(df_subset[:, :2])\n",
    "        \n",
    "    plt.scatter(df_subset[:, 0], df_subset[:, 1], color=colors[y_pred].tolist());\n",
    "    \n",
    "def visualize_sequences(seq):\n",
    "    seq = seq.reshape((seq.shape[0] * 11, 8))\n",
    "    seq = seq[seq[:, 0] != -1]\n",
    "    columns = ['s.eX', 's.eY', 's.eZ', 's.eTX', 's.eTY', 'signal', 'number_of_ancestors', 'parent_index']\n",
    "    seq_pd = pd.DataFrame(seq,columns = columns)\n",
    "    plot_bg(seq_pd)"
   ]
  },
  {
   "cell_type": "code",
   "execution_count": 92,
   "metadata": {
    "collapsed": false
   },
   "outputs": [],
   "source": [
    "sequences = produce_sequences(np.asarray(cleared_data)[:, 1:], z_coordinates, classifier = svm)"
   ]
  },
  {
   "cell_type": "code",
   "execution_count": 93,
   "metadata": {
    "collapsed": false
   },
   "outputs": [],
   "source": [
    "length_array = np.zeros(len(sequences)).astype(int)"
   ]
  },
  {
   "cell_type": "code",
   "execution_count": 94,
   "metadata": {
    "collapsed": false
   },
   "outputs": [],
   "source": [
    "for i in range(len(sequences)):\n",
    "    length_array[i] = len(sequences[i, :, 0])\n",
    "    for n in range(len(sequences[i, :, 0])):\n",
    "        if sequences[i, n, 0] == -1:\n",
    "            length_array[i] = n\n",
    "            break\n"
   ]
  },
  {
   "cell_type": "code",
   "execution_count": 95,
   "metadata": {
    "collapsed": false
   },
   "outputs": [
    {
     "data": {
      "image/png": "[encoded data removed]",
      "text/plain": [
       "<matplotlib.figure.Figure at 0x11d797b50>"
      ]
     },
     "metadata": {},
     "output_type": "display_data"
    }
   ],
   "source": [
    "%matplotlib inline\n",
    "visualize_projection(sequences, length_array)"
   ]
  },
  {
   "cell_type": "code",
   "execution_count": 34,
   "metadata": {
    "collapsed": false
   },
   "outputs": [
    {
     "name": "stdout",
     "output_type": "stream",
     "text": [
      "(66, 11, 8)\n",
      "len(slopes): 219\n"
     ]
    }
   ],
   "source": [
    "long_sequences = sequences[length_array > 2]\n",
    "print long_sequences.shape\n",
    "visualize_sequences(long_sequences)"
   ]
  },
  {
   "cell_type": "code",
   "execution_count": 26,
   "metadata": {
    "collapsed": false
   },
   "outputs": [],
   "source": [
    "#cleared_data.to_csv(\"cleared_data_500000\")"
   ]
  },
  {
   "cell_type": "markdown",
   "metadata": {},
   "source": [
    "# CRF algorthim on sequences"
   ]
  },
  {
   "cell_type": "code",
   "execution_count": 50,
   "metadata": {
    "collapsed": false
   },
   "outputs": [],
   "source": [
    "def prepare_training_set(sequences, length_array):\n",
    "    X_train = []\n",
    "    y_train = []\n",
    "    for i in range(len(sequences)):\n",
    "        new_seq = []\n",
    "        seq = sequences[i][:length_array[i]]\n",
    "        for index in range(len(seq) - 1):\n",
    "            features = compute_features(np.array([seq[index]]), np.array([seq[index + 1]])).reshape(6)\n",
    "            new_seq.append(features)\n",
    "        X_train.append(np.array(new_seq))\n",
    "        y_train.append(np.array([seq[0][5]] * (length_array[i] - 1), dtype = int))\n",
    "    \n",
    "    return np.array(X_train), np.array(y_train)"
   ]
  },
  {
   "cell_type": "code",
   "execution_count": 51,
   "metadata": {
    "collapsed": false
   },
   "outputs": [],
   "source": [
    "X_train, y_train = prepare_training_set(long_sequences, length_array[length_array > 2])"
   ]
  },
  {
   "cell_type": "code",
   "execution_count": 52,
   "metadata": {
    "collapsed": false
   },
   "outputs": [],
   "source": [
    "from pystruct.models import ChainCRF\n",
    "from pystruct.learners import FrankWolfeSSVM"
   ]
  },
  {
   "cell_type": "code",
   "execution_count": 77,
   "metadata": {
    "collapsed": false
   },
   "outputs": [],
   "source": [
    "model = ChainCRF()\n",
    "ssvm = FrankWolfeSSVM(model=model, C=50, max_iter=20)\n",
    "ssvm.fit(X_train, y_train) \n",
    "\n",
    "pred = ssvm.predict(X_train) "
   ]
  },
  {
   "cell_type": "code",
   "execution_count": null,
   "metadata": {
    "collapsed": true
   },
   "outputs": [],
   "source": []
  }
 ],
 "metadata": {
  "anaconda-cloud": {},
  "kernelspec": {
   "display_name": "Python [conda root]",
   "language": "python",
   "name": "conda-root-py"
  },
  "language_info": {
   "codemirror_mode": {
    "name": "ipython",
    "version": 2
   },
   "file_extension": ".py",
   "mimetype": "text/x-python",
   "name": "python",
   "nbconvert_exporter": "python",
   "pygments_lexer": "ipython2",
   "version": "2.7.12"
  },
  "notify_time": "5"
 },
 "nbformat": 4,
 "nbformat_minor": 1
}
